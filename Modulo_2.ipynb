{
  "nbformat": 4,
  "nbformat_minor": 0,
  "metadata": {
    "colab": {
      "private_outputs": true,
      "provenance": [],
      "authorship_tag": "ABX9TyPpUvQnd8DiETO0A1ZVBgpB",
      "include_colab_link": true
    },
    "kernelspec": {
      "name": "python3",
      "display_name": "Python 3"
    },
    "language_info": {
      "name": "python"
    }
  },
  "cells": [
    {
      "cell_type": "markdown",
      "metadata": {
        "id": "view-in-github",
        "colab_type": "text"
      },
      "source": [
        "<a href=\"https://colab.research.google.com/github/DaomPythonProjects/Modulo_2/blob/main/Modulo_2.ipynb\" target=\"_parent\"><img src=\"https://colab.research.google.com/assets/colab-badge.svg\" alt=\"Open In Colab\"/></a>"
      ]
    },
    {
      "cell_type": "markdown",
      "source": [
        "# Módulo 2: Lógica y Control de Flujo\n",
        "> **👤 Autor**: @Diego Ojeda\n",
        "📅 **Fecha**: 30 de julio de 2025\n",
        "⌚ **Duración Estimada:** 14 horas\n",
        "🏷️ Contenidos Clave:\n",
        ">\n",
        "> - Introducción al ecosistema Python: intérprete, editores y REPL.\n",
        "> - **Estándar de código PEP 8:** Reglas de formato, nombrado y estructura.\n",
        "> - Variables y tipos de datos primitivos (`int`, `float`, `str`, `bool`).\n",
        "> - Operadores aritméticos, de comparación y lógicos.\n",
        "> - Funciones de entrada y salida: `print()` y `input()`.\n",
        "> - Comentarios y documentación básica de código.\n",
        ">\n",
        "> 🎯 **Objetivo**: Escribir los primeros programas en Python, comprendiendo la sintaxis básica y la importancia de un código limpio y estandarizado desde el inicio.\n",
        ">\n",
        "\n",
        "### 1. Introducción: El Flujo de un Programa\n",
        "\n",
        "En Python, como en la mayoría de los lenguajes de programación, el código se ejecuta de manera **secuencial**, es decir, una línea después de la otra, de arriba hacia abajo.\n",
        "\n",
        "Sin embargo, a menudo necesitamos que nuestro programa tome decisiones y ejecute diferentes bloques de código según ciertas circunstancias. Aquí es donde entran en juego las **estructuras condicionales**, que nos permiten alterar este flujo secuencial y crear programas inteligentes y dinámicos.\n",
        "\n",
        "# La Estructura Condicional Básica: `if`\n",
        "\n",
        "La instrucción `if` (que significa \"si\" en inglés) es la base de todas las decisiones en Python. Permite ejecutar un bloque de código **únicamente si una condición específica es verdadera**.\n",
        "\n",
        "La sintaxis es simple: la palabra `if`, seguida de la condición a evaluar, y dos puntos (`:`). El bloque de código que depende de la condición debe estar **indentado** (generalmente con 4 espacios)."
      ],
      "metadata": {
        "id": "ZvQiUdCQJo2P"
      }
    },
    {
      "cell_type": "code",
      "source": [
        "# Definimos una variable\n",
        "x = 10\n",
        "\n",
        "# Si la condición (x > 5) es verdadera, se ejecuta el código indentado\n",
        "if x > 5:\n",
        "    print(\"x es mayor que 5\")"
      ],
      "metadata": {
        "id": "6bn7TDHvJvZE"
      },
      "execution_count": null,
      "outputs": []
    },
    {
      "cell_type": "markdown",
      "source": [
        "### Manejando el Caso Contrario: `else`\n",
        "\n",
        "¿Qué pasa si la condición del `if` es falsa? Para manejar este caso, utilizamos la instrucción `else` (\"si no\"). El bloque de código dentro del `else` se ejecutará solo si la condición del `if` inicial no se cumple."
      ],
      "metadata": {
        "id": "-NPfc6TBJyRa"
      }
    },
    {
      "cell_type": "code",
      "source": [
        "x = 3\n",
        "\n",
        "if x > 5:\n",
        "    print(\"x es mayor que 5\")\n",
        "else:\n",
        "    print(\"x es menor o igual a 5\")"
      ],
      "metadata": {
        "id": "eTG-m3JJJ0Xl"
      },
      "execution_count": null,
      "outputs": []
    },
    {
      "cell_type": "markdown",
      "source": [
        "### Evaluando Múltiples Condiciones: `elif`\n",
        "\n",
        "Cuando tenemos más de dos posibilidades, podemos usar `elif` (una contracción de \"else if\"). Esto nos permite añadir tantas condiciones intermedias como necesitemos, en orden. Python las evaluará una por una hasta que encuentre una que sea verdadera."
      ],
      "metadata": {
        "id": "6traYITuJ4NG"
      }
    },
    {
      "cell_type": "code",
      "source": [
        "x = 5\n",
        "\n",
        "if x > 5:\n",
        "    print(\"x es mayor que 5\")\n",
        "elif x == 5: # Si la primera condición es falsa, prueba con esta\n",
        "    print(\"x es igual a 5\")\n",
        "else: # Si ninguna de las anteriores es verdadera, ejecuta esta\n",
        "    print(\"x es menor que 5\")"
      ],
      "metadata": {
        "id": "d5EdTxJAJ5mE"
      },
      "execution_count": null,
      "outputs": []
    },
    {
      "cell_type": "markdown",
      "source": [
        "### Combinando Condiciones: Operadores Lógicos\n",
        "\n",
        "A veces, una sola condición `if` necesita evaluar múltiples factores. Para ello, usamos los operadores lógicos.\n",
        "\n",
        "- **`and` (y):** Requiere que **ambas** condiciones sean verdaderas.\n",
        "- **`or` (o):** Requiere que **al menos una** de las condiciones sea verdadera."
      ],
      "metadata": {
        "id": "b9Dw77nqJ76w"
      }
    },
    {
      "cell_type": "code",
      "source": [
        "x = 15\n",
        "y = 30\n",
        "\n",
        "# Ejemplo con 'and'\n",
        "if x > 10 and y > 25:\n",
        "    print(\"x es mayor que 10 Y y es mayor que 25\")\n",
        "\n",
        "# Ejemplo con 'or'\n",
        "if x > 10 or y > 35:\n",
        "    print(\"x es mayor que 10 O y es mayor que 35\")"
      ],
      "metadata": {
        "id": "B2-SLFJEJ9Ik"
      },
      "execution_count": null,
      "outputs": []
    },
    {
      "cell_type": "markdown",
      "source": [
        "- **`not` (no):** Se utiliza para negar o invertir el resultado de una condición. Si algo era `True`, `not` lo convierte en `False`, y viceversa."
      ],
      "metadata": {
        "id": "O7x4jDwRJ_ju"
      }
    },
    {
      "cell_type": "code",
      "source": [
        "x = 15\n",
        "\n",
        "if not x > 20: # not (False) se convierte en True\n",
        "    print(\"x no es mayor que 20\")"
      ],
      "metadata": {
        "id": "niO5vY08KAJs"
      },
      "execution_count": null,
      "outputs": []
    },
    {
      "cell_type": "markdown",
      "source": [
        "### Una Forma Más \"Pythónica\" de Comparar Rangos\n",
        "\n",
        "Python nos permite encadenar operadores para hacer nuestro código más legible, similar a como lo escribiríamos en matemáticas."
      ],
      "metadata": {
        "id": "Gdra3JEiKBe5"
      }
    },
    {
      "cell_type": "code",
      "source": [
        "# Forma tradicional con 'and'\n",
        "edad = 25\n",
        "if edad >= 18 and edad <= 65:\n",
        "    print(\"Estás en edad laboral.\")\n",
        "\n",
        "# Forma Pythónica encadenada (más limpia y recomendada)\n",
        "edad = 25\n",
        "if 18 <= edad <= 65:\n",
        "    print(\"Estás en edad laboral.\")"
      ],
      "metadata": {
        "id": "HvwrDQoMKEPI"
      },
      "execution_count": null,
      "outputs": []
    },
    {
      "cell_type": "markdown",
      "source": [
        "### 6. Condiciones Anidadas\n",
        "\n",
        "Podemos colocar una estructura `if` dentro de otra. Esto es útil para verificar sub-condiciones. Sin embargo, una buena práctica es no anidar demasiados niveles, ya que puede hacer el código difícil de leer."
      ],
      "metadata": {
        "id": "OxrhQcNfKHGg"
      }
    },
    {
      "cell_type": "code",
      "source": [
        "isMember = True\n",
        "age = 15\n",
        "\n",
        "if isMember:\n",
        "    if age >= 15:\n",
        "        print(\"Tienes acceso ya que eres miembro y mayor o igual a 15.\")\n",
        "    else:\n",
        "        print(\"No tienes acceso ya que eres miembro, pero menor a 15 años.\")\n",
        "else:\n",
        "    print(\"No eres miembro y no tienes acceso.\")"
      ],
      "metadata": {
        "id": "6XiRJUCSKIcF"
      },
      "execution_count": null,
      "outputs": []
    },
    {
      "cell_type": "markdown",
      "source": [
        "---\n",
        "\n",
        "### 7. Sintaxis Moderna y Prácticas Avanzadas\n",
        "\n",
        "Python evoluciona para hacer nuestro código más legible y eficiente. Aquí hay algunas herramientas modernas que debes conocer.\n",
        "\n",
        "### El Operador Ternario: `if-else` en una sola línea\n",
        "\n",
        "Para asignaciones condicionales simples, podemos usar una sintaxis más compacta y elegante.\n",
        "\n",
        "**Sintaxis:** `valor_si_verdadero if condicion else valor_si_falso`"
      ],
      "metadata": {
        "id": "9RKUuN1uKNqM"
      }
    },
    {
      "cell_type": "code",
      "source": [
        "# Forma tradicional\n",
        "edad = 20\n",
        "if edad >= 18:\n",
        "    mensaje = \"Es mayor de edad\"\n",
        "else:\n",
        "    mensaje = \"Es menor de edad\"\n",
        "print(mensaje)\n",
        "\n",
        "# Con el operador ternario\n",
        "edad = 20\n",
        "mensaje = \"Es mayor de edad\" if edad >= 18 else \"Es menor de edad\"\n",
        "print(mensaje)"
      ],
      "metadata": {
        "id": "Nb7hUr6BKOPP"
      },
      "execution_count": null,
      "outputs": []
    },
    {
      "cell_type": "markdown",
      "source": [
        "### La Estructura `match-case` (Python 3.10+)\n",
        "\n",
        "Para reemplazar cadenas largas de `if-elif-else` que comparan una variable con diferentes valores, la estructura `match-case` es la opción moderna."
      ],
      "metadata": {
        "id": "IBTSCJTnKQs8"
      }
    },
    {
      "cell_type": "code",
      "source": [
        "# Imagina que evaluamos un código de estado de una petición web\n",
        "status = 404\n",
        "\n",
        "match status:\n",
        "    case 200 | 201: # Podemos agrupar casos con el operador '|'\n",
        "        print(\"Éxito (OK)\")\n",
        "    case 404:\n",
        "        print(\"Recurso no encontrado\")\n",
        "    case 500:\n",
        "        print(\"Error interno del servidor\")\n",
        "    case _: # El guion bajo (_) actúa como el caso por defecto (else)\n",
        "        print(\"Código de estado no reconocido\")\n",
        "\n",
        "\n",
        "    match status:\n",
        "        case _ if(200 <= status <= 299): # Podemos agrupar casos con el operador '|'\n",
        "            print(\"La petición fue exitosa\")\n",
        "        case _ if(400 <= status <= 499): # Podemos usar 'range' para un rango de valores\n",
        "            print(\"Error al cargar la pagina\")\n",
        "        case _ if(500 <= status <= 599):\n",
        "            print(\"Error interno del servidor\")\n",
        "        case _: # El guion bajo (_) actúa como el caso por defecto (else)\n",
        "            print(\"Código de estado no reconocido\")"
      ],
      "metadata": {
        "id": "ZhMDim79KROR"
      },
      "execution_count": null,
      "outputs": []
    },
    {
      "cell_type": "markdown",
      "source": [
        "Muchos lenguajes de programación tienen una estructura `switch-case` para comparar una variable contra una serie de valores. **Python no tiene una instrucción `switch`**, pero a partir de la versión 3.10, introdujo la estructura `match-case`, que es aún más potente.\n",
        "\n",
        "Como ya vimos en la guía anterior, `match-case` es la forma moderna de manejar múltiples comparaciones contra una variable, reemplazando cadenas largas de `if-elif-else`.\n",
        "\n",
        "**Recordatorio Rápido:**"
      ],
      "metadata": {
        "id": "7AmIo348KUo7"
      }
    },
    {
      "cell_type": "code",
      "source": [
        "comando = \"SALUDAR\"\n",
        "\n",
        "match comando:\n",
        "    case \"SALUDAR\":\n",
        "        print(\"Hola, aprendiz del SENA!\")\n",
        "    case \"DESPEDIRSE\":\n",
        "        print(\"Hasta luego, que tengas un gran día.\")\n",
        "    case _: # El caso por defecto\n",
        "        print(\"Comando no reconocido.\")"
      ],
      "metadata": {
        "id": "FykHKLkRKVPX"
      },
      "execution_count": null,
      "outputs": []
    },
    {
      "cell_type": "markdown",
      "source": [
        "### El Concepto de \"Truthiness\" y \"Falsiness\"\n",
        "\n",
        "En Python, no solo `True` y `False` se evalúan en las condiciones. Otros valores tienen un valor booleano implícito.\n",
        "\n",
        "- **Valores que se evalúan como `False` (\"Falsy\"):**\n",
        "    - `0`, `0.0`\n",
        "    - Cadenas de texto vacías: `\"\"`\n",
        "    - Colecciones vacías: `[]`, `()`, `{}`\n",
        "    - El valor `None`\n",
        "\n",
        "Cualquier otro valor se considera **\"Truthy\"** (verdadero). Esto nos permite escribir código más limpio."
      ],
      "metadata": {
        "id": "fmKiJ8w4KYcj"
      }
    },
    {
      "cell_type": "code",
      "source": [
        "# Forma menos Pythónica de verificar si un usuario escribió su nombre\n",
        "nombre_usuario = \"\" # input(\"Ingresa tu nombre: \")\n",
        "if len(nombre_usuario) > 0:\n",
        "    print(\"El nombre fue ingresado.\")\n",
        "else:\n",
        "    print(\"El nombre está vacío.\")\n",
        "\n",
        "# Forma Pythónica usando \"Truthiness\"\n",
        "nombre_usuario = \"\" # input(\"Ingresa tu nombre: \")\n",
        "if nombre_usuario: # Si la cadena no está vacía, es True\n",
        "    print(\"El nombre fue ingresado.\")\n",
        "else:\n",
        "    print(\"El nombre está vacío.\")"
      ],
      "metadata": {
        "id": "Xe_dx4iGKZIY"
      },
      "execution_count": null,
      "outputs": []
    },
    {
      "cell_type": "markdown",
      "source": [
        "---\n",
        "\n",
        "### 8. Ejemplo Práctico Integrador\n",
        "\n",
        "Vamos a combinar todo lo aprendido en un pequeño programa que determina el acceso a un evento."
      ],
      "metadata": {
        "id": "ZvHo526nKdhA"
      }
    },
    {
      "cell_type": "code",
      "source": [
        "# --- Sistema de Validación de Entrada a un Evento ---\n",
        "\n",
        "print(\"¡Bienvenido al sistema de validación de entradas!\")\n",
        "\n",
        "# Pedimos los datos al usuario de forma interactiva\n",
        "try:\n",
        "    edad = int(input(\"Por favor, introduce tu edad: \"))\n",
        "    tipo_entrada = input(\"¿Qué tipo de entrada tienes (VIP, General o Estudiante)?: \").upper()\n",
        "except ValueError:\n",
        "    print(\"Error: La edad debe ser un número válido.\")\n",
        "    exit()\n",
        "\n",
        "# Validamos la edad con un operador encadenado\n",
        "if not (0 < edad < 100):\n",
        "    print(\"Por favor, introduce una edad realista.\")\n",
        "elif edad < 18:\n",
        "    print(\"Lo sentimos, este evento es solo para mayores de 18 años.\")\n",
        "else:\n",
        "    # Usamos match-case para gestionar el tipo de entrada de forma legible\n",
        "    print(f\"Edad verificada ({edad} años). Verificando entrada tipo '{tipo_entrada}'...\")\n",
        "\n",
        "    match tipo_entrada:\n",
        "        case \"VIP\":\n",
        "            mensaje_acceso = \"Acceso concedido a la zona VIP. ¡Disfruta!\"\n",
        "        case \"GENERAL\":\n",
        "            mensaje_acceso = \"Acceso concedido a la zona general. ¡Disfruta del evento!\"\n",
        "        case \"ESTUDIANTE\":\n",
        "            mensaje_acceso = \"Acceso concedido. Recuerda mostrar tu carné de estudiante.\"\n",
        "        case _:\n",
        "            mensaje_acceso = \"Error: El tipo de entrada no es válido.\"\n",
        "\n",
        "    print(mensaje_acceso)\n",
        "\n",
        "    # Usamos el operador ternario para un mensaje adicional\n",
        "    if mensaje_acceso.startswith(\"Acceso\"):\n",
        "        mensaje_bebida = \"Pasa a la barra por una bebida de cortesía.\" if tipo_entrada == \"VIP\" else \"Puedes comprar bebidas en la barra.\"\n",
        "        print(mensaje_bebida)"
      ],
      "metadata": {
        "id": "OztMlIQKKd-A"
      },
      "execution_count": null,
      "outputs": []
    },
    {
      "cell_type": "markdown",
      "source": [
        "# El Poder de la Repetición 🔄\n",
        "\n",
        "Los bucles son una de las herramientas más poderosas en la programación. Nos permiten ejecutar un bloque de código repetidamente, ya sea un número determinado de veces o mientras se cumpla una condición. Son esenciales para automatizar tareas, procesar colecciones de datos y controlar el flujo del programa de manera eficiente.\n",
        "\n",
        "En Python, existen principalmente dos tipos de bucles: `while` (indefinido) y `for` (definido).\n",
        "\n",
        "---\n",
        "\n",
        "### 2. Bucles de Condición (Indefinidos): `while`\n",
        "\n",
        "Estos bucles ejecutan un bloque de código **mientras** una condición específica sea verdadera. La condición se evalúa antes de cada iteración. Si en algún momento la condición se vuelve `False`, el bucle termina.\n",
        "\n",
        "Son ideales cuando no sabemos de antemano cuántas veces necesitamos repetir el ciclo.\n",
        "\n",
        "**Estructura Clave:**\n",
        "\n",
        "1. **Inicialización:** Se prepara una variable que se usará en la condición.\n",
        "2. **Condición:** La expresión booleana que se evalúa en cada ciclo.\n",
        "3. **Actualización:** Dentro del bucle, se modifica la variable de inicialización para que, eventualmente, la condición sea falsa y el bucle pueda terminar (evitando bucles infinitos)."
      ],
      "metadata": {
        "id": "K3k1b94GKjev"
      }
    },
    {
      "cell_type": "code",
      "source": [
        "# Bucle while para imprimir números del 1 al 10\n",
        "contador = 1  # 1. Inicialización\n",
        "while contador <= 10:  # 2. Condición (corregido de ≤ a <=)\n",
        "    print(contador)\n",
        "    contador += 1  # 3. Actualización. ¡Es crucial para no crear un bucle infinito!"
      ],
      "metadata": {
        "id": "UitKXoGnKm7D"
      },
      "execution_count": null,
      "outputs": []
    },
    {
      "cell_type": "markdown",
      "source": [
        "### El Bloque `else` en un Bucle `while`\n",
        "\n",
        "Algo particular de Python es que los bucles pueden tener un bloque `else`. Este bloque se ejecutará **solo si el bucle termina de forma natural** (es decir, cuando su condición se vuelve `False`), y no cuando es interrumpido por una sentencia `break`."
      ],
      "metadata": {
        "id": "0jJREWpQKogh"
      }
    },
    {
      "cell_type": "code",
      "source": [
        "# Ejemplo: Búsqueda de un número con while-else\n",
        "oportunidades = 3\n",
        "numero_secreto = 7\n",
        "\n",
        "while oportunidades > 0:\n",
        "    intento = int(input(\"Adivina el número (1-10): \"))\n",
        "    if intento == numero_secreto:\n",
        "        print(\"¡Felicitaciones! ¡Has adivinado!\")\n",
        "        break # El bucle se interrumpe, el 'else' no se ejecutará\n",
        "    oportunidades -= 1\n",
        "    print(f\"Incorrecto. Te quedan {oportunidades} oportunidades.\")\n",
        "else:\n",
        "    # Este bloque solo se ejecuta si el while termina porque 'oportunidades' llega a 0\n",
        "    print(f\"Lo siento, te quedaste sin oportunidades. El número era {numero_secreto}.\")"
      ],
      "metadata": {
        "id": "XhMGcpBLKquy"
      },
      "execution_count": null,
      "outputs": []
    },
    {
      "cell_type": "markdown",
      "source": [
        "### Un bucle infinito `while True` que se puede detener usando `break`."
      ],
      "metadata": {
        "id": "K_wUnpr7KrYY"
      }
    },
    {
      "cell_type": "code",
      "source": [
        "#\n",
        "while True:\n",
        "    user_input = input(\"Ingrese un comando: \")\n",
        "    if user_input == \"salir\":\n",
        "        break\n",
        "    print(f\"Usted ingresó: {user_input}\")\n",
        "\n",
        "#\n",
        "numbers = [1, 2, 3, 4, 5, 6, 7, 8, 9, 10]\n",
        "for number in numbers:\n",
        "    if number == 5:\n",
        "        break\n",
        "    print(number)"
      ],
      "metadata": {
        "id": "7pwL-Hz8Kt-r"
      },
      "execution_count": null,
      "outputs": []
    },
    {
      "cell_type": "markdown",
      "source": [
        "### Simular do-while\n",
        "\n",
        "Para simular `do-while`: Se puede usar un bucle `while True` con una condición dentro para imitar el comportamiento de `do-while`."
      ],
      "metadata": {
        "id": "J7UoQZT8KwxK"
      }
    },
    {
      "cell_type": "code",
      "source": [
        "def do_while():\n",
        "    x = 0\n",
        "    while True:\n",
        "        print(f\"x = {x}\")\n",
        "        x += 1\n",
        "        if x >= 5:\n",
        "            break\n",
        "do_while()"
      ],
      "metadata": {
        "id": "WFukUGALKxUP"
      },
      "execution_count": null,
      "outputs": []
    },
    {
      "cell_type": "markdown",
      "source": [
        "---\n",
        "\n",
        "### 3. Bucles de Iteración (Definidos): `for`\n",
        "\n",
        "Estos bucles ejecutan el bloque de código un número específico de veces. No dependen de una condición que deba cambiar, sino que recorren los elementos de un objeto **iterable** (como una lista, una cadena de texto, una tupla, etc.) uno por uno.\n",
        "\n",
        "Son perfectos cuando quieres realizar una acción para cada elemento de una colección.\n",
        "\n",
        "### Iterando sobre Colecciones"
      ],
      "metadata": {
        "id": "sFR5lQS1K0Jf"
      }
    },
    {
      "cell_type": "code",
      "source": [
        "# Iterar sobre una lista de frutas\n",
        "fruits = [\"Manzana\", \"Pera\", \"Uva\", \"Naranja\", \"Tomate\"]\n",
        "for fruit in fruits:\n",
        "    print(fruit)\n",
        "    if fruit == \"Naranja\":\n",
        "        print(\"-> Naranja encontrada\")\n",
        "\n",
        "# Iterar sobre una cadena de texto\n",
        "for caracter in \"SENA\":\n",
        "    print(caracter)\n",
        "\n",
        "# Iteracion Sobre Diccionarios\n",
        "persona = {\"nombre\": \"Diego\", \"edad\": 35, \"ciudad\": \"Sogamoso\"}\n",
        "\n",
        "  # Iterar sobre las claves\n",
        "  for clave in persona:\n",
        "      print(clave)\n",
        "\n",
        "  # Iterar sobre los valores\n",
        "  for valor in persona.values():\n",
        "      print(valor)\n",
        "\n",
        "  # Iterar sobre pares clave-valor\n",
        "  for clave, valor in persona.items():\n",
        "      print(f\"{clave}: {valor}\")"
      ],
      "metadata": {
        "id": "NDrZDrIRK0rI"
      },
      "execution_count": null,
      "outputs": []
    },
    {
      "cell_type": "markdown",
      "source": [
        "### La Función `range()`\n",
        "\n",
        "Cuando necesitamos un bucle que se repita un número específico de veces, `range()` es nuestra mejor herramienta. Genera una secuencia de números que el `for` puede recorrer.\n",
        "\n",
        "`range()` puede tener hasta tres argumentos: `range(inicio, fin, paso)`\n",
        "\n",
        "- **inicio:** (Opcional) El número donde empieza la secuencia (incluido). Por defecto es 0.\n",
        "- **fin:** (Obligatorio) El número donde termina la secuencia (no incluido).\n",
        "- **paso:** (Opcional) El incremento entre números. Por defecto es 1."
      ],
      "metadata": {
        "id": "4dOkOvb2K2_B"
      }
    },
    {
      "cell_type": "code",
      "source": [
        "# Imprime números del 3 al 9 (el 10 no se incluye)\n",
        "for i in range(3, 10):\n",
        "    print(i)\n",
        "\n",
        "# Imprime los primeros 5 números (del 0 al 4)\n",
        "for i in range(5):\n",
        "    print(i)\n",
        "\n",
        "# Imprime números pares del 2 al 10\n",
        "for i in range(2, 11, 2):\n",
        "    print(i)"
      ],
      "metadata": {
        "id": "_cqLDlV_K4bl"
      },
      "execution_count": null,
      "outputs": []
    },
    {
      "cell_type": "markdown",
      "source": [
        "### La Función `enumerate()`: Iterar con Índice y Valor\n",
        "\n",
        "Una necesidad común es obtener tanto el elemento como su posición (índice) en la colección. La forma \"Pythónica\" de hacer esto es con `enumerate()`."
      ],
      "metadata": {
        "id": "802tQH9TK58v"
      }
    },
    {
      "cell_type": "code",
      "source": [
        "# Forma moderna y recomendada con enumerate()\n",
        "paises = [\"Colombia\", \"México\", \"Argentina\"]\n",
        "for indice, pais in enumerate(paises):\n",
        "    print(f\"Índice {indice}: {pais}\")"
      ],
      "metadata": {
        "id": "AOa1pycNK7r2"
      },
      "execution_count": null,
      "outputs": []
    },
    {
      "cell_type": "markdown",
      "source": [
        "---\n",
        "\n",
        "### 4. Controlando el Flujo del Bucle\n",
        "\n",
        "A veces necesitamos un control más fino sobre cómo y cuándo un bucle se ejecuta o termina.\n",
        "\n",
        "- **`break`**: Permite **salir del bucle inmediatamente**. Es útil para situaciones excepcionales o cuando se encuentra lo que se buscaba."
      ],
      "metadata": {
        "id": "-OIw3GRMK9yf"
      }
    },
    {
      "cell_type": "code",
      "source": [
        "# Buscar un número y salir del bucle cuando se encuentra\n",
        "numbers = [1, 2, 3, 4, 5, 6, 7, 8, 9, 10]\n",
        "for num in numbers:\n",
        "    if num == 5:\n",
        "        print(f'Número {num} encontrado, saliendo del bucle.')\n",
        "        break  # Termina el bucle for por completo\n",
        "    print(num) # Esto no se imprimirá para el 5 ni para los números siguientes"
      ],
      "metadata": {
        "id": "JLxSmRaALCCs"
      },
      "execution_count": null,
      "outputs": []
    },
    {
      "cell_type": "markdown",
      "source": [
        "- **`continue`**: Omite **todo el código restante de la iteración actual** y salta directamente a la siguiente. Útil para filtrar elementos."
      ],
      "metadata": {
        "id": "G4hTJ2StLHCK"
      }
    },
    {
      "cell_type": "code",
      "source": [
        "# Imprimir solo los números impares de una lista\n",
        "numbers = [1, 2, 3, 4, 5, 6, 7, 8, 9, 10]\n",
        "for num in numbers:\n",
        "    if num % 2 == 0:\n",
        "        continue  # Si el número es par, salta a la siguiente iteración\n",
        "    print(num) # Esta línea solo se ejecuta para números impares"
      ],
      "metadata": {
        "id": "dHScUi79LKw4"
      },
      "execution_count": null,
      "outputs": []
    },
    {
      "cell_type": "markdown",
      "source": [
        "- **Bucles Anidados**: Un bucle dentro de otro bucle. Útil para recorrer estructuras multidimensionales (como matrices) o realizar tareas repetitivas dentro de otras iteraciones."
      ],
      "metadata": {
        "id": "5QkYIa8uLRyq"
      }
    },
    {
      "cell_type": "code",
      "source": [
        "# Imprimir una tabla de multiplicar del 1 al 5\n",
        "for i in range(1, 6):\n",
        "    for j in range(1, 6):\n",
        "        # end='\\t' evita el salto de línea y agrega una tabulación\n",
        "        print(f'{i} x {j} = {i * j}', end='\\t')\n",
        "    print()  # Imprime un salto de línea para empezar la siguiente fila\n",
        "\n",
        "# Estructuras complejas como lista de listas\n",
        "matriz = [[1, 2, 3], [4, 5, 6], [7, 8, 9]]\n",
        "for fila in matriz:\n",
        "    for elemento in fila:\n",
        "        print(elemento)"
      ],
      "metadata": {
        "id": "RCbVifdjLURc"
      },
      "execution_count": null,
      "outputs": []
    },
    {
      "cell_type": "markdown",
      "source": [
        "---\n",
        "\n",
        "### 5. El Motor de la Iteración: Iteradores y Generadores\n",
        "\n",
        "Estos son conceptos más avanzados que explican *cómo* funcionan los bucles `for` por debajo.\n",
        "\n",
        "### **Conceptos Fundamentales: Iterable vs. Iterador**\n",
        "\n",
        "La distinción más crucial es entender que no son lo mismo.\n",
        "\n",
        "- **Iterable**: Es cualquier objeto en Python que **puede ser recorrido**, es decir, del que se pueden obtener sus elementos uno por uno.\n",
        "    - **Analogía**: Un **libro** 📖. Es la colección completa de páginas, pero no está \"leyendo\" ninguna por sí mismo.\n",
        "    - **Ejemplos**: Listas (`[]`), tuplas (`()`), diccionarios (`{}`), strings (`\"\"`), sets (`{}`).\n",
        "    - **Requisito técnico**: Debe tener un método `__iter__()`.\n",
        "- **Iterador**: Es el objeto que **hace el trabajo de recorrer**. Lleva la cuenta de la posición actual, sabe cómo obtener el siguiente elemento y cuándo se ha terminado la colección.\n",
        "    - **Analogía**: Un **marcador de libro** 🔖. No contiene la historia, pero sabe en qué página estás y cómo pasar a la siguiente.\n",
        "    - **Características Clave**:\n",
        "        - Es de **un solo uso** y se agota. Una vez recorrido, no se puede \"reiniciar\".\n",
        "        - Es **perezoso (lazy)**: no genera todos los valores de una vez, sino bajo demanda.\n",
        "    - **Requisito técnico**: Debe tener un método `__next__()` y un método `__iter__()` (que generalmente se devuelve a sí mismo).\n",
        "\n",
        "### Iteradores\n",
        "\n",
        "Un **iterador** es un objeto que representa un flujo de datos. Sabe cómo acceder a los elementos de una colección uno a la vez y lleva la cuenta de su posición actual.|\n",
        "\n",
        "Cuando usas un bucle `for`, Python internamente obtiene un iterador del objeto que estás recorriendo (usando la función `iter()`) y luego llama a `next()` en ese iterador en cada ciclo para obtener el siguiente elemento, hasta que se agota y lanza una excepción `StopIteration`."
      ],
      "metadata": {
        "id": "kp3XGQ2eLY8h"
      }
    },
    {
      "cell_type": "code",
      "source": [
        "# Una lista es un objeto \"iterable\"\n",
        "lista = [1, 2, 3]\n",
        "\n",
        "# Podemos obtener su iterador manualmente\n",
        "my_iter = iter(lista)\n",
        "\n",
        "# Y pedir el siguiente elemento con next()\n",
        "print(next(my_iter))  # Output: 1\n",
        "print(next(my_iter))  # Output: 2\n",
        "print(next(my_iter))  # Output: 3\n",
        "# Si llamamos a next(my_iter) de nuevo, daría un error StopIteration\n",
        "\n",
        "# Funcionamiento por debajo\n",
        "mi_lista = ['a', 'b', 'c']\n",
        "\n",
        "# 1. El bucle 'for' obtiene el iterador del iterable\n",
        "iterador = mi_lista.__iter__() # O iter(mi_lista)\n",
        "\n",
        "# 2. Inicia un bucle infinito para pedir el siguiente elemento\n",
        "while True:\n",
        "    try:\n",
        "        # 3. Llama a next() en cada ciclo\n",
        "        letra = iterador.__next__() # O next(iterador)\n",
        "        print(letra)\n",
        "    except StopIteration:\n",
        "        # 4. Si next() lanza StopIteration, el bucle se rompe\n",
        "        break"
      ],
      "metadata": {
        "id": "cgV9-3e7LZ2S"
      },
      "execution_count": null,
      "outputs": []
    },
    {
      "cell_type": "markdown",
      "source": [],
      "metadata": {
        "id": "z020XcCIwOV6"
      }
    },
    {
      "cell_type": "markdown",
      "source": [
        "---\n",
        "\n",
        "### **El Protocolo del Iterador: La Magia Detrás del Bucle `for`**\n",
        "\n",
        "Python utiliza un conjunto de reglas (un \"protocolo\") para la iteración. Las funciones `iter()` y `next()` son las interfaces públicas para este protocolo.\n",
        "\n",
        "- `iter(objeto_iterable)`: Llama internamente a `objeto_iterable.__iter__()`. Su única función es **devolver un nuevo objeto iterador**.\n",
        "- `next(objeto_iterador)`: Llama internamente a `objeto_iterador.__next__()`. Su función es:\n",
        "    1. Devolver el siguiente elemento de la secuencia.\n",
        "    2. Cuando no hay más elementos, lanzar una excepción `StopIteration` para señalar el final.\n",
        "\n",
        "Un bucle `for` es simplemente una forma más elegante de escribir este proceso:"
      ],
      "metadata": {
        "id": "l3VnVSpPLgKO"
      }
    },
    {
      "cell_type": "code",
      "source": [
        "# Esto:\n",
        "for elemento in mi_lista:\n",
        "    print(elemento)\n",
        "\n",
        "# Es equivalente a esto:\n",
        "iterador = iter(mi_lista)\n",
        "while True:\n",
        "    try:\n",
        "        elemento = next(iterador)\n",
        "        print(elemento)\n",
        "    except StopIteration:\n",
        "        break"
      ],
      "metadata": {
        "id": "NzFmD4eXLiPs"
      },
      "execution_count": null,
      "outputs": []
    },
    {
      "cell_type": "markdown",
      "source": [
        "---\n",
        "\n",
        "### **Ventaja Principal: Eficiencia de Memoria**\n",
        "\n",
        "Los iteradores son increíblemente eficientes con la memoria porque implementan la **evaluación perezosa**.\n",
        "\n",
        "- **Una lista `[1, 2, ..., 1000000]`** almacena un millón de números en la memoria RAM simultáneamente.\n",
        "- **Un iterador** para el mismo rango solo necesita almacenar el número actual y la regla para calcular el siguiente. La memoria utilizada es mínima y constante, sin importar el tamaño de la secuencia.\n",
        "\n",
        "Esto es vital para procesar archivos grandes, flujos de datos o secuencias infinitas.\n",
        "\n",
        "---\n",
        "\n",
        "### **Creación de Iteradores Personalizados (Clases)**\n",
        "\n",
        "Para crear tu propio iterador, debes implementar el protocolo en una clase:\n",
        "\n",
        "1. `__init__(self, ...)`: Para inicializar el estado del iterador (ej: el número inicial de una cuenta regresiva).\n",
        "2. `__iter__(self)`: Debe devolver `self`, indicando que el objeto es su propio iterador.\n",
        "3. `__next__(self)`: Contiene la lógica principal:\n",
        "    - Verificar si se ha alcanzado la condición de parada. Si es así, `raise StopIteration`.\n",
        "    - Calcular y devolver el siguiente valor.\n",
        "    - Actualizar el estado interno para la próxima llamada.\n",
        "\n",
        "### **Puntos Clave para Recordar**\n",
        "\n",
        "- **Todo iterador es iterable**, pero no todo iterable es un iterador.\n",
        "- Los iteradores se **agotan** y no se pueden reiniciar. Para volver a recorrer, debes pedir un nuevo iterador al iterable original.\n",
        "- El diseño se basa en **\"Duck Typing\"**: si tiene un método `__iter__`, es iterable. No depende de la herencia.\n",
        "\n",
        "### Ejemplo Completo de una Clase Iterador:"
      ],
      "metadata": {
        "id": "ftec_tlNLlZ9"
      }
    },
    {
      "cell_type": "code",
      "source": [
        "# Uniendo todas las piezas...\n",
        "class ContadorRegresivo:\n",
        "    \"\"\"\n",
        "    Un iterador personalizado que cuenta hacia atrás desde un número inicial hasta 1.\n",
        "    \"\"\"\n",
        "    def __init__(self, inicio):\n",
        "        self.actual = inicio\n",
        "\n",
        "    def __iter__(self):\n",
        "        return self\n",
        "\n",
        "    def __next__(self):\n",
        "        # 1. Primero, revisamos la condición de parada.\n",
        "        # Si el número actual es menor que 1, hemos terminado.\n",
        "        if self.actual < 1:\n",
        "            raise StopIteration  # Esta es la señal para que el bucle for se detenga.\n",
        "\n",
        "        # 2. Si no nos hemos detenido, hacemos el trabajo.\n",
        "        else:\n",
        "            # Guardamos el número actual para devolverlo\n",
        "            valor_a_devolver = self.actual\n",
        "\n",
        "            # Restamos 1 para la *próxima* vez que se llame a next()\n",
        "            self.actual -= 1\n",
        "\n",
        "            # Devolvemos el número que guardamos\n",
        "            return valor_a_devolver\n",
        "\n",
        "\n",
        "print(\"Iniciando la cuenta regresiva...\")\n",
        "for numero in ContadorRegresivo(5):\n",
        "    print(numero)\n",
        "print(\"¡Despegue!\")\n",
        "\n",
        "# --- Salida ---\n",
        "# Iniciando la cuenta regresiva...\n",
        "# 5\n",
        "# 4\n",
        "# 3\n",
        "# 2\n",
        "# 1\n",
        "# ¡Despegue!"
      ],
      "metadata": {
        "id": "dVVywt4ILmOI"
      },
      "execution_count": null,
      "outputs": []
    },
    {
      "cell_type": "markdown",
      "source": [
        "### Generadores\n",
        "\n",
        "Un **generador** es una forma simple y elegante de crear iteradores. En lugar de construir una clase completa con `__iter__` y `__next__`, escribes una función que utiliza la palabra clave `yield`.\n",
        "\n",
        "- **`yield` vs `return`**:\n",
        "    - `return` finaliza una función y devuelve un único valor.\n",
        "    - `yield` **\"produce\"** un valor y **pausa** la función, guardando todo su estado (variables locales, posición en el código). La ejecución se reanuda desde ese punto en la siguiente llamada.\n",
        "\n",
        "### **Creación de Generadores**\n",
        "\n",
        "Existen dos formas principales de crear generadores:\n",
        "\n",
        "**1. Funciones Generadoras (con `yield`)**\n",
        "\n",
        "Son la forma más explícita. Se definen como una función normal, pero contienen al menos una instrucción `yield`.\n",
        "\n",
        "- **Ejemplo 1: Cuenta Regresiva (alternativa a nuestra clase)**"
      ],
      "metadata": {
        "id": "W64VaEc5LqQg"
      }
    },
    {
      "cell_type": "code",
      "source": [
        "def contador_regresivo(inicio):\n",
        "    \"\"\"\n",
        "    Un generador que cuenta hacia atrás desde un número inicial.\n",
        "    \"\"\"\n",
        "    print(\"-> La función generadora comienza ahora.\")\n",
        "    actual = inicio\n",
        "    while actual > 0:\n",
        "        print(f\"-> Antes de yield: actual = {actual}\")\n",
        "        yield actual\n",
        "        print(f\"-> Después de yield: actual = {actual - 1}\")\n",
        "        actual -= 1\n",
        "    print(\"-> La función generadora ha terminado.\")\n",
        "\n",
        "# Uso:\n",
        "for numero in contador_regresivo(3):\n",
        "    print(f\"Bucle FOR obtuvo: {numero}\\n\")\n",
        "\n",
        "# Salida:\n",
        "# -> La función generadora comienza ahora.\n",
        "# -> Antes de yield: actual = 3\n",
        "# Bucle FOR obtuvo: 3\n",
        "#\n",
        "# -> Después de yield: actual = 2\n",
        "# -> Antes de yield: actual = 2\n",
        "# Bucle FOR obtuvo: 2\n",
        "#\n",
        "# -> Después de yield: actual = 1\n",
        "# -> Antes de yield: actual = 1\n",
        "# Bucle FOR obtuvo: 1\n",
        "#\n",
        "# -> Después de yield: actual = 0\n",
        "# -> La función generadora ha terminado."
      ],
      "metadata": {
        "id": "qz2HGJA0LrCv"
      },
      "execution_count": null,
      "outputs": []
    },
    {
      "cell_type": "markdown",
      "source": [
        "- **Ejemplo 2: Leer líneas de un archivo grande**\n",
        "\n",
        "Este es un caso de uso clásico. Leer un archivo línea por línea con un generador evita cargar todo el archivo en memoria."
      ],
      "metadata": {
        "id": "recEQO49Lt5A"
      }
    },
    {
      "cell_type": "code",
      "source": [
        "def leer_lineas(nombre_archivo):\n",
        "    \"\"\"\n",
        "    Generador que lee un archivo línea por línea de forma eficiente.\n",
        "    \"\"\"\n",
        "    with open(nombre_archivo, 'r') as f:\n",
        "        for linea in f:\n",
        "            yield linea.strip() # .strip() quita espacios y saltos de línea\n",
        "\n",
        "# Uso (asumiendo que tienes un archivo 'mi_log.txt'):\n",
        "# for linea_log in leer_lineas('mi_log.txt'):\n",
        "#     if \"ERROR\" in linea_log:\n",
        "#         print(linea_log)"
      ],
      "metadata": {
        "id": "PCMA9PRmLvi9"
      },
      "execution_count": null,
      "outputs": []
    },
    {
      "cell_type": "markdown",
      "source": [
        "Ejemplo 3: Serie fibonacci:"
      ],
      "metadata": {
        "id": "cCcPwvu2Lxng"
      }
    },
    {
      "cell_type": "code",
      "source": [
        "# Función generadora para la secuencia de Fibonacci\n",
        "def fibonacci(limit):\n",
        "    a, b = 0, 1\n",
        "    while a < limit:\n",
        "        yield a  # 'produce' el valor actual y pausa la ejecución aquí\n",
        "        a, b = b, a + b # Esto se reanuda en la siguiente llamada a next()\n",
        "\n",
        "# El bucle for consume el generador valor por valor\n",
        "print(\"Secuencia de Fibonacci generada:\")\n",
        "for num in fibonacci(100):\n",
        "    print(num)"
      ],
      "metadata": {
        "id": "t6POsHcgLy7_"
      },
      "execution_count": null,
      "outputs": []
    },
    {
      "cell_type": "markdown",
      "source": [
        "### Tabla Comparativa: Lista vs. Generador\n",
        "\n",
        "Aquí tienes una tabla resumen que puedes usar en tus apuntes:\n",
        "\n",
        "| Característica | `Lista []` (Comprensión) | `Generador ()` (Expresión) |\n",
        "| --- | --- | --- |\n",
        "| **Uso de Memoria** | Alto. Almacena todos los elementos. | Muy bajo. Solo almacena el estado actual. |\n",
        "| **Acceso** | Aleatorio por índice (`lista[i]`). | Secuencial (`next()`). |\n",
        "| **Reutilización** | Se puede recorrer infinitas veces. | **Un solo uso**. Se agota. |\n",
        "| **Creación** | Inmediata (calcula todo al inicio). | Perezosa (calcula valores bajo demanda). |\n",
        "| **Ideal para...** | Datos que caben en memoria y necesitan ser accedidos/recorridos múltiples veces. | Secuencias muy grandes o infinitas, y procesamiento de datos en un solo paso (`pipelines`). |\n",
        "\n",
        "### Expresiones Generadoras **(Sintaxis Concisa)**\n",
        "\n",
        "Son muy similares a las comprensiones de listas, pero usan paréntesis `()` en lugar de corchetes `[]`. Crean el objeto generador de forma inmediata y perezosa.\n",
        "\n",
        "- **Ejemplo: Cuadrados de números**\n",
        "    - **Lista (Ineficiente para grandes números):**"
      ],
      "metadata": {
        "id": "qZeV_DbfL24Z"
      }
    },
    {
      "cell_type": "code",
      "source": [
        "lista_cuadrados = [x*x for x in range(1000000)]"
      ],
      "metadata": {
        "id": "5lnrOT3aL3jV"
      },
      "execution_count": null,
      "outputs": []
    },
    {
      "cell_type": "markdown",
      "source": [
        "- Crea una lista de un millón de elementos en memoria.\n",
        "  - **Generador (Eficiente):**"
      ],
      "metadata": {
        "id": "qbwHdxVeML-_"
      }
    },
    {
      "cell_type": "code",
      "source": [
        "generador_cuadrados = (x*x for x in range(1000000))"
      ],
      "metadata": {
        "id": "9JretdB4MIHB"
      },
      "execution_count": null,
      "outputs": []
    },
    {
      "cell_type": "markdown",
      "source": [
        "      - Crea un pequeño objeto generador. Los cuadrados se calculan uno a uno cuando se solicitan."
      ],
      "metadata": {
        "id": "m6SW3eqZMFYE"
      }
    },
    {
      "cell_type": "code",
      "source": [
        "# La expresión generadora es perezosa. No se ha calculado nada aún.\n",
        "generador = (num * 10 for num in [1, 2, 3])\n",
        "\n",
        "# Los valores se generan al iterar sobre él\n",
        "for valor in generador:\n",
        "    print(valor) # Imprime 10, 20, 30"
      ],
      "metadata": {
        "id": "8TslwWDjMW4R"
      },
      "execution_count": null,
      "outputs": []
    },
    {
      "cell_type": "markdown",
      "source": [
        "---\n",
        "\n",
        "### **Características y Ventajas Clave**\n",
        "\n",
        "- **Eficiencia de Memoria**: Es su mayor ventaja. Permiten procesar secuencias de datos enormes (o infinitas) con una huella de memoria mínima y constante.\n",
        "- **Evaluación Perezosa (Lazy Evaluation)**: Los valores se generan \"sobre la marcha\" (bajo demanda), no todos al principio. Esto ahorra tiempo de procesador si no necesitas todos los valores.\n",
        "- **Código Más Legible**: Para iteraciones complejas que requieren mantener un estado, una función generadora suele ser mucho más clara y corta que una clase iteradora completa.\n",
        "- **Componibilidad (Pipelines)**: Puedes encadenar generadores para crear tuberías de procesamiento de datos muy eficientes. Un generador puede consumir datos de otro, procesarlos y producir nuevos valores, todo de manera perezosa."
      ],
      "metadata": {
        "id": "RNNfIhYGMaH0"
      }
    },
    {
      "cell_type": "code",
      "source": [
        "# Ejemplo de un pipeline de datos\n",
        "# 1. Lee un archivo perezosamente\n",
        "lineas = leer_lineas('mi_log.txt')\n",
        "# 2. Filtra solo las líneas de error perezosamente\n",
        "lineas_error = (linea for linea in lineas if \"ERROR\" in linea)\n",
        "# 3. Extrae el mensaje de error perezosamente\n",
        "mensajes = (linea.split(\": \")[2] for linea in lineas_error)\n",
        "\n",
        "# Ningún trabajo se ha realizado hasta que el bucle for lo pide\n",
        "for msg in mensajes:\n",
        "    print(msg)"
      ],
      "metadata": {
        "id": "EolPciYaMcta"
      },
      "execution_count": null,
      "outputs": []
    },
    {
      "cell_type": "markdown",
      "source": [
        "Vamos a usar el módulo `sys` de Python para medir cuántos bytes ocupa en memoria una lista gigante en comparación con un generador que produce los mismos valores."
      ],
      "metadata": {
        "id": "8OP6nYLHMeCm"
      }
    },
    {
      "cell_type": "code",
      "source": [
        "import sys\n",
        "\n",
        "# --- Opción 1: Lista (Comprensión de listas) ---\n",
        "# Creamos una lista en memoria con un millón de números.\n",
        "lista_cuadrados = [x*x for x in range(1000000)]\n",
        "print(f\"Tamaño de la LISTA en memoria: {sys.getsizeof(lista_cuadrados)} bytes\")\n",
        "\n",
        "# --- Opción 2: Generador (Expresión generadora) ---\n",
        "# Creamos un objeto generador. ¡Ojo, no calcula nada todavía!\n",
        "generador_cuadrados = (x*x for x in range(1000000))\n",
        "print(f\"Tamaño del GENERADOR en memoria: {sys.getsizeof(generador_cuadrados)} bytes\")\n",
        "\n",
        "# El generador es un objeto muy pequeño.\n",
        "# Solo cuando lo consumimos (ej. con sum()), calcula los valores uno por uno.\n",
        "# suma = sum(generador_cuadrados) # Esto seguiría siendo eficiente"
      ],
      "metadata": {
        "id": "v4WZbksEMfc8"
      },
      "execution_count": null,
      "outputs": []
    },
    {
      "cell_type": "markdown",
      "source": [
        "### Sincronizando Iterables: La Función `zip()` 🤐\n",
        "\n",
        "La función `zip()` toma dos o más objetos iterables (como listas) y los \"empaqueta\" o \"comprime\", creando un iterador que devuelve tuplas. Cada tupla contiene los elementos de la misma posición de cada iterable de entrada.\n",
        "\n",
        "Imagina que tienes dos cremalleras y `zip()` las une diente por diente.\n",
        "\n",
        "### Uso Básico"
      ],
      "metadata": {
        "id": "mIyN7iOWMidI"
      }
    },
    {
      "cell_type": "code",
      "source": [
        "# Dos listas que queremos recorrer en paralelo\n",
        "shopping = ['Agua', 'Huevos', 'Aceite', 'Sal', 'Limón']\n",
        "details = ['mineral natural', 'gallina feliz', 'de oliva', 'marina', 'verde']\n",
        "\n",
        "# zip() las une elemento a elemento\n",
        "for product, detail in zip(shopping, details):\n",
        "    print(f'Producto: {product} ({detail})')"
      ],
      "metadata": {
        "id": "_H4Pq9sAMkc_"
      },
      "execution_count": null,
      "outputs": []
    },
    {
      "cell_type": "markdown",
      "source": [
        "### Comportamiento Clave de `zip()`\n",
        "\n",
        "- **Se detiene en el iterable más corto:** Si las listas tienen diferentes longitudes, `zip()` se detendrá tan pronto como la lista más corta se agote. No dará error.\n",
        "- **Crear una lista de tuplas:** Puedes convertir el resultado de `zip()` directamente en una lista."
      ],
      "metadata": {
        "id": "bIkSgKMsMnjF"
      }
    },
    {
      "cell_type": "code",
      "source": [
        "new_list = list(zip(shopping, details))\n",
        "print(new_list)\n",
        "# Salida: [('Agua', 'mineral natural'), ('Huevos', 'gallina feliz'), ...]"
      ],
      "metadata": {
        "id": "ynJeLThQMp4l"
      },
      "execution_count": null,
      "outputs": []
    },
    {
      "cell_type": "markdown",
      "source": [
        "- **Crear diccionarios:** `zip()` es la forma más común y eficiente de crear un diccionario a partir de dos listas (una de claves y otra de valores)."
      ],
      "metadata": {
        "id": "qAgGzzkaMsev"
      }
    },
    {
      "cell_type": "code",
      "source": [
        "lista_claves = ['nombre', 'edad', 'región']\n",
        "lista_valores = ['Juan', 30, 'Tunja']\n",
        "\n",
        "# Usando dict() con zip()\n",
        "mi_dict = dict(zip(lista_claves, lista_valores))\n",
        "print(mi_dict) # {'nombre': 'Juan', 'edad': 30, 'región': 'Tunja'}"
      ],
      "metadata": {
        "id": "m5jlirZDMvNe"
      },
      "execution_count": null,
      "outputs": []
    },
    {
      "cell_type": "markdown",
      "source": [
        "### Es un Iterador (Eficiente en Memoria) 🧠\n",
        "\n",
        "La función `zip()` **no crea una lista de tuplas en memoria**, sino que devuelve un **iterador**.\n",
        "\n",
        "Esto significa que `zip()` es **perezoso (lazy)**. Las tuplas se generan una por una a medida que el bucle `for` (o cualquier otra función) las solicita. Al igual que los generadores, esto lo hace increíblemente eficiente en memoria, especialmente si estás uniendo iterables muy grandes."
      ],
      "metadata": {
        "id": "n7b_KkIAMx_u"
      }
    },
    {
      "cell_type": "code",
      "source": [
        "import sys\n",
        "\n",
        "rango_largo = range(1000000)\n",
        "otro_rango = range(1000000)\n",
        "\n",
        "# zip() crea un objeto iterador muy pequeño, sin importar el tamaño de las entradas\n",
        "zipped_object = zip(rango_largo, otro_rango)\n",
        "print(f\"Tamaño del objeto zip en memoria: {sys.getsizeof(zipped_object)} bytes\") # Salida: ej. 72 bytes\n",
        "\n",
        "# Solo si lo materializas en una lista, consume mucha memoria\n",
        "# lista_zipped = list(zipped_object)\n",
        "# print(f\"Tamaño de la lista creada desde zip: {sys.getsizeof(lista_zipped)} bytes\") # Salida: >8MB"
      ],
      "metadata": {
        "id": "7hq1Y0d-MzZu"
      },
      "execution_count": null,
      "outputs": []
    },
    {
      "cell_type": "markdown",
      "source": [
        "### 2. El Proceso Inverso: \"Descomprimir\" con  unzip\n",
        "\n",
        "A menudo, después de haber \"zipeado\" algo, necesitas volver a las listas originales. Python tiene una forma idiomática y elegante de hacer esto usando el operador de descompresión `*` (conocido como \"splat\" o \"unpack\").\n",
        "\n",
        "La operación `zip(*zipped_list)` toma una lista de tuplas y la \"descomprime\", devolviendo tuplas que agrupan los primeros elementos, los segundos elementos, y así sucesivamente."
      ],
      "metadata": {
        "id": "5LxOAlROM0s0"
      }
    },
    {
      "cell_type": "code",
      "source": [
        "# Tenemos datos ya zipeados\n",
        "pares = [('Agua', 'mineral'), ('Huevos', 'gallina'), ('Aceite', 'oliva')]\n",
        "\n",
        "# Usamos zip(*) para \"descomprimir\"\n",
        "productos, detalles = zip(*pares)\n",
        "\n",
        "print(f\"Productos: {productos}\") # ('Agua', 'Huevos', 'Aceite')\n",
        "print(f\"Detalles: {detalles}\")   # ('mineral', 'gallina', 'oliva')"
      ],
      "metadata": {
        "id": "41UgiVoyM2WK"
      },
      "execution_count": null,
      "outputs": []
    },
    {
      "cell_type": "markdown",
      "source": [
        "---\n",
        "\n",
        "### 3. Manejo de Iterables de Diferente Longitud: `itertools.zip_longest`\n",
        "\n",
        " `zip()` se detiene en el iterable más corto. Pero, ¿qué pasa si quieres continuar hasta que el **iterable más largo** se agote, rellenando los valores faltantes?\n",
        "\n",
        "Para esto, la biblioteca estándar de Python nos ofrece `itertools.zip_longest`. Esta función te permite especificar un `fillvalue` (valor de relleno) para los iterables que se acaben antes."
      ],
      "metadata": {
        "id": "u-vbsxiTM3__"
      }
    },
    {
      "cell_type": "code",
      "source": [
        "from itertools import zip_longest\n",
        "\n",
        "shopping = ['Agua', 'Huevos', 'Aceite', 'Sal', 'Limón']\n",
        "precios = [3000, 8000, 15000] # Lista más corta\n",
        "\n",
        "# Comportamiento de zip() normal (se detiene en el tercer elemento)\n",
        "print(\"Con zip():\")\n",
        "for item, precio in zip(shopping, precios):\n",
        "    print(f\"{item}: ${precio}\")\n",
        "\n",
        "print(\"\\nCon zip_longest():\")\n",
        "# Continúa hasta el final de 'shopping', rellenando los precios faltantes con 0\n",
        "for item, precio in zip_longest(shopping, precios, fillvalue=0):\n",
        "    print(f\"{item}: ${precio}\")"
      ],
      "metadata": {
        "id": "SrIPETB_M5LV"
      },
      "execution_count": null,
      "outputs": []
    },
    {
      "cell_type": "markdown",
      "source": [
        "### Iterando con Contexto: La Función `enumerate()` 🔢\n",
        "\n",
        "A menudo, cuando recorres un iterable, no solo necesitas el valor, sino también su **índice** o posición. `enumerate()` resuelve esto de una manera elegante, evitando la necesidad de contadores manuales.\n",
        "\n",
        "### Uso Básico\n",
        "\n",
        "`enumerate()` devuelve un par `(índice, valor)` en cada iteración."
      ],
      "metadata": {
        "id": "9XIy4MqeM8xQ"
      }
    },
    {
      "cell_type": "code",
      "source": [
        "shopping = ['Agua', 'Huevos', 'Aceite', 'Sal', 'Limón']\n",
        "\n",
        "# Usamos enumerate para obtener tanto el índice como el producto\n",
        "print(\"Lista de compras con su posición:\")\n",
        "for indice, product in enumerate(shopping):\n",
        "    print(f\"{indice}: {product}\")"
      ],
      "metadata": {
        "id": "-icYeUtwM-LP"
      },
      "execution_count": null,
      "outputs": []
    },
    {
      "cell_type": "markdown",
      "source": [
        "### Personalizando el Índice Inicial\n",
        "\n",
        "Por defecto, `enumerate()` empieza a contar desde 0. Puedes cambiar esto con el argumento `start`."
      ],
      "metadata": {
        "id": "d76xltsSM_mp"
      }
    },
    {
      "cell_type": "code",
      "source": [
        "# Empezar a contar desde 1 para una lista más \"humana\"\n",
        "for indice, product in enumerate(shopping, start=1):\n",
        "    print(f\"{indice}. {product}\")"
      ],
      "metadata": {
        "id": "eGBt6IbjNAvW"
      },
      "execution_count": null,
      "outputs": []
    },
    {
      "cell_type": "markdown",
      "source": [
        "### Búsqueda con `enumerate()`\n",
        "\n",
        "Es ideal para encontrar la posición de un elemento. El bloque `else` en un bucle `for` se ejecuta si el bucle termina sin ser interrumpido por un `break`."
      ],
      "metadata": {
        "id": "Dr2wRlryNCYM"
      }
    },
    {
      "cell_type": "code",
      "source": [
        "# Buscamos 'Sal' en la lista\n",
        "for i, nombre in enumerate(shopping):\n",
        "    if nombre == \"Sal\":\n",
        "        print(f\"'{nombre}' se encontró en el índice {i}.\")\n",
        "        break\n",
        "else:\n",
        "    # Este bloque solo se ejecuta si el 'break' nunca se activó\n",
        "    print(\"'Sal' no está en la lista.\")"
      ],
      "metadata": {
        "id": "c2pnMT-BNDUy"
      },
      "execution_count": null,
      "outputs": []
    },
    {
      "cell_type": "markdown",
      "source": [
        "### Es un Iterador (y Técnicamente, una Clase) ⚙️\n",
        "\n",
        "Al igual que `zip()` y los generadores, la función `enumerate()` **devuelve un iterador**. Esto significa que es perezosa y muy eficiente en memoria. No crea una lista de tuplas `(índice, valor)` de antemano, sino que las genera una por una conforme se las pides.\n",
        "\n",
        "El detalle técnico más profundo es que `enumerate` no es una función que *contiene* un generador, sino que es una **clase** en sí misma. Cuando la llamas, estás creando una **instancia** de la clase `enumerate`, la cual es un iterador."
      ],
      "metadata": {
        "id": "yiqGfUqWNE3g"
      }
    },
    {
      "cell_type": "code",
      "source": [
        "shopping = ['Agua', 'Huevos', 'Aceite']\n",
        "enumerated_object = enumerate(shopping)\n",
        "\n",
        "# Es un objeto iterador de la clase 'enumerate'\n",
        "print(type(enumerated_object))\n",
        "# Salida: <class 'enumerate'>\n",
        "\n",
        "# Podemos consumir su contenido con next()\n",
        "print(next(enumerated_object)) # Salida: (0, 'Agua')\n",
        "print(next(enumerated_object)) # Salida: (1, 'Huevos')"
      ],
      "metadata": {
        "id": "nEHpneaZNGGG"
      },
      "execution_count": null,
      "outputs": []
    },
    {
      "cell_type": "markdown",
      "source": [
        "Saber esto te da una comprensión completa de por qué se comporta como lo hace, siguiendo el mismo **protocolo de iteración** que ya dominas.\n",
        "\n",
        "---\n",
        "\n",
        "### 2. El Proceso Inverso y Otros Patrones Útiles\n",
        "\n",
        "Aunque no existe una función \"un-enumerate\", es un patrón común necesitar solo los valores después de haberlos enumerado. Esto se logra fácilmente con una comprensión."
      ],
      "metadata": {
        "id": "h_vt6FpoNH14"
      }
    },
    {
      "cell_type": "markdown",
      "source": [
        "- **Volver a la lista original:** Si tienes una lista de tuplas de `enumerate` y quieres solo los elementos."
      ],
      "metadata": {
        "id": "KzY3uZSENNqx"
      }
    },
    {
      "cell_type": "code",
      "source": [
        "enumerated_list = [(0, 'Agua'), (1, 'Huevos'), (2, 'Aceite')]\n",
        "\n",
        "# Extraemos solo el segundo elemento de cada tupla\n",
        "original_items = [item for index, item in enumerated_list]\n",
        "print(original_items) # ['Agua', 'Huevos', 'Aceite']"
      ],
      "metadata": {
        "id": "BrvS3GNvNQZm"
      },
      "execution_count": null,
      "outputs": []
    },
    {
      "cell_type": "markdown",
      "source": [
        "- **Crear un diccionario de mapeo (índice -> valor):** `enumerate` es perfecto para cuando necesitas crear un diccionario que asigne la posición de un elemento a ese elemento."
      ],
      "metadata": {
        "id": "Os3NHRReNRe3"
      }
    },
    {
      "cell_type": "code",
      "source": [
        "shopping = ['Agua', 'Huevos', 'Aceite']\n",
        "\n",
        "index_to_item_map = {index: item for index, item in enumerate(shopping)}\n",
        "print(index_to_item_map)\n",
        "# Salida: {0: 'Agua', 1: 'Huevos', 2: 'Aceite'}"
      ],
      "metadata": {
        "id": "ttTRidyJNV1c"
      },
      "execution_count": null,
      "outputs": []
    },
    {
      "cell_type": "markdown",
      "source": [
        "- **Modificar una lista basada en el índice:** `enumerate` te da el índice que necesitas para modificar la lista original mientras la recorres."
      ],
      "metadata": {
        "id": "l8L8WizpNZz2"
      }
    },
    {
      "cell_type": "code",
      "source": [
        "words = [\"uno\", \"dos\", \"tres\", \"cuatro\", \"cinco\"]\n",
        "\n",
        "# Poner en mayúsculas las palabras en posiciones pares\n",
        "for i, word in enumerate(words):\n",
        "    if i % 2 == 0:\n",
        "        words[i] = word.upper()\n",
        "\n",
        "print(words) # ['UNO', 'dos', 'TRES', 'cuatro', 'CINCO']"
      ],
      "metadata": {
        "id": "QOZbqVDaNcVX"
      },
      "execution_count": null,
      "outputs": []
    },
    {
      "cell_type": "markdown",
      "source": [
        "---\n",
        "\n",
        "### 4. La Magia de las \"Comprehensions\": Código Declarativo\n",
        "\n",
        "Las \"comprehensions\" (comprensiones) son una de las características más amadas de Python. Permiten crear nuevas listas, sets o diccionarios a partir de iterables existentes en una sola línea de código, de forma clara y a menudo más rápida que un bucle tradicional.\n",
        "\n",
        "### List Comprehensions `[...]`\n",
        "\n",
        "Es la forma más común. Permite construir una nueva lista aplicando una expresión a cada elemento de una secuencia.\n",
        "\n",
        "**Sintaxis básica:** `[expresion for elemento in iterable]`"
      ],
      "metadata": {
        "id": "NgFk_v2WNfcx"
      }
    },
    {
      "cell_type": "code",
      "source": [
        "# Método tradicional para crear una lista con los cuadrados de los primeros 5 números\n",
        "cuadrados_tradicional = []\n",
        "for i in range(1,6):\n",
        "    cuadrados_tradicional.append(i**2)\n",
        "\n",
        "# Equivalente usando comprensión de listas (más corto y legible)\n",
        "cuadrados_comprehension = [i**3 for i in range(1, 6)]\n",
        "\n",
        "print(f\"cuadrados_tradicional = {cuadrados_tradicional}\")    # [0, 1, 4, 9, 16]\n",
        "print(f\"cuadrados_comprehension = {cuadrados_comprehension}\") # [0, 1, 4, 9, 16]\n",
        "\n",
        "# Se pueden usar funciones dentro de la expresión\n",
        "def eleva_al_4(i):\n",
        "    print(f\"i = {i}\")\n",
        "    return i**4\n",
        "\n",
        "cuadrados_funcion = [eleva_al_4(i) for i in range(1,6)]\n",
        "print(f\"cuadrados_funcion = {cuadrados_funcion}\") # [0, 1, 4, 9, 16]\n",
        "\n",
        "# Si no necesitas el valor, puedes usar un guion bajo (_)\n",
        "unos = [0 for _ in range(1, 10)]\n",
        "print(f\"unos = {unos}\") # [1, 1, 1, 1, 1]"
      ],
      "metadata": {
        "id": "PnWtHASVNgJz"
      },
      "execution_count": null,
      "outputs": []
    },
    {
      "cell_type": "markdown",
      "source": [
        "**Añadiendo condicionales:** Podemos filtrar elementos añadiendo un `if` al final.\n",
        "\n",
        "**Sintaxis con filtro:** `[expresion for elemento in iterable if condicion]`"
      ],
      "metadata": {
        "id": "beyyEKcPNjCC"
      }
    },
    {
      "cell_type": "code",
      "source": [
        "# Crear una lista solo con las letras 'r' de una frase\n",
        "frase = \"El perro de san roque no tiene rabo\"\n",
        "\n",
        "# Forma Tradicional\n",
        "list_erres = []\n",
        "for letra in frase:\n",
        "    if letra == 'r':\n",
        "        list_erres.append(letra)\n",
        "print(list_erres) # ['r', 'r', 'r', 'r']\n",
        "\n",
        "# Equivalente usando comprensión de listas\n",
        "erres = [letra for letra in frase if letra == 'r']\n",
        "print(erres)  # ['r', 'r', 'r', 'r']\n",
        "\n",
        "nums = [1, 2, 3, 4, 5, 6, 7, 8, 9, 10]\n",
        "list_no_multiplos_3 = []\n",
        "\n",
        "for n in nums:\n",
        "    if n % 3 != 0:\n",
        "        list_no_multiplos_3.append(n)\n",
        "\n",
        "print(list_no_multiplos_3)\n",
        "\n",
        "#Tradicional\n",
        "for n in nums:\n",
        "    if n % 3 != 0:\n",
        "        print(n)\n",
        "\n",
        "# Crear una nueva lista eliminando los múltiplos de 3\n",
        "\n",
        "no_multiplos_3 = [n for n in nums if n % 3 != 0]\n",
        "print(no_multiplos_3)  # [1, 2, 4, 5, 7, 8, 10]"
      ],
      "metadata": {
        "id": "j_N1t6BLNkgz"
      },
      "execution_count": null,
      "outputs": []
    },
    {
      "cell_type": "markdown",
      "source": [
        "### Condicionales en la Expresión (`if/else`)\n",
        "\n",
        "Ya dominas el **filtrado** (decidir *si* un elemento entra en la lista) con un `if` al final. Pero, ¿qué pasa si quieres cambiar el valor de la expresión basándote en una condición? Para eso, se usa la sintaxis `if/else` al **principio** de la comprensión.\n",
        "\n",
        "**Sintaxis**: `[valor_si_true if condicion else valor_si_false for elemento in iterable]`\n",
        "\n",
        "- **Ejemplo**: Etiquetar números como \"par\" o \"impar\"."
      ],
      "metadata": {
        "id": "wy59aXd9Nmns"
      }
    },
    {
      "cell_type": "code",
      "source": [
        "numeros = [1, 2, 3, 4, 5, 6]\n",
        "\n",
        "# Forma Tradicional\n",
        "etiquetas_tradicional = []\n",
        "for n in numeros:\n",
        "    if n % 2 == 0:\n",
        "        etiquetas_tradicional.append(\"par\")\n",
        "    else:\n",
        "        etiquetas_tradicional.append(\"impar\")\n",
        "\n",
        "print(etiquetas_tradicional)\n",
        "\n",
        "# Para cada número, la expresión decide qué string añadir\n",
        "etiquetas = [\"par\" if n % 2 == 0 else \"impar\" for n in numeros]\n",
        "\n",
        "print(numeros)\n",
        "print(etiquetas)\n",
        "# Salida: ['impar', 'par', 'impar', 'par', 'impar', 'par']"
      ],
      "metadata": {
        "id": "FXTgbRuuNrYn"
      },
      "execution_count": null,
      "outputs": []
    },
    {
      "cell_type": "code",
      "source": [],
      "metadata": {
        "id": "6_OBW5uAZKhd"
      },
      "execution_count": null,
      "outputs": []
    },
    {
      "cell_type": "code",
      "source": [
        "matriz = [[1, 2, 3], [4, 5, 6], [7, 8, 9]]\n",
        "print(matriz)\n",
        "\n",
        "# Esto es equivalente al siguiente bucle tradicional:\n",
        "lista_plana_tradicional = []\n",
        "for fila in matriz:\n",
        "    for num in fila:\n",
        "        lista_plana_tradicional.append(num)\n",
        "\n",
        "print(lista_plana_tradicional)\n",
        "\n",
        "# El primer 'for' recorre las filas, el segundo recorre los números de cada fila\n",
        "lista_plana = [num for fila in matriz for num in fila]\n",
        "\n",
        "print(lista_plana)\n",
        "# Salida: [1, 2, 3, 4, 5, 6, 7, 8, 9]"
      ],
      "metadata": {
        "id": "N4k8Hk_pNxPh"
      },
      "execution_count": null,
      "outputs": []
    },
    {
      "cell_type": "markdown",
      "source": [
        "### Set Comprehensions `{...}`\n",
        "\n",
        "Funcionan igual que las de lista, pero usan llaves `{}` y el resultado es un **set**, lo que significa que **automáticamente elimina elementos duplicados**."
      ],
      "metadata": {
        "id": "Z5y3e3PCN1oy"
      }
    },
    {
      "cell_type": "code",
      "source": [
        "numeros_con_duplicados = [1, 2, 3, 1, 2, 4, 5, 4]\n",
        "\n",
        "# Crea un set con los cuadrados únicos\n",
        "cuadrados_unicos = {n**2 for n in numeros_con_duplicados}\n",
        "\n",
        "print(cuadrados_unicos)\n",
        "# Salida: {1, 4, 9, 16, 25}\n",
        "\n",
        "frase = \"El perro de san roque no tiene rabo\"\n",
        "\n",
        "# La comprensión de set solo guardará una 'r', ya que los sets no permiten duplicados\n",
        "mi_set = {letra for letra in frase if letra == \"r\"}\n",
        "print(mi_set)  # {'r'}"
      ],
      "metadata": {
        "id": "G9K78rqwN3Gg"
      },
      "execution_count": null,
      "outputs": []
    },
    {
      "cell_type": "markdown",
      "source": [
        "### Principal Caso de Uso: Obtener Unicidad y Transformar\n",
        "\n",
        "El escenario perfecto para una `set comprehension` es cuando tienes un iterable con posibles duplicados y quieres obtener una colección de **elementos únicos**, a menudo aplicando una transformación en el proceso.\n",
        "\n",
        "- **Ejemplo más claro**: Tienes una lista de IDs de productos, algunos repetidos, y quieres obtener un `set` con los IDs de categoría únicos (asumiendo que los primeros 3 caracteres son la categoría)."
      ],
      "metadata": {
        "id": "J4YSCBypN5Tt"
      }
    },
    {
      "cell_type": "code",
      "source": [
        "product_ids = ['ABC-001', 'DEF-002', 'ABC-003', 'GHI-004', 'DEF-005']\n",
        "\n",
        "# Obtenemos las categorías únicas (los 3 primeros caracteres)\n",
        "unique_categories = {pid[:3] for pid in product_ids}\n",
        "\n",
        "print(unique_categories)\n",
        "# Salida: {'GHI', 'ABC', 'DEF'}\n",
        "# Nota cómo 'ABC' y 'DEF' aparecen solo una vez."
      ],
      "metadata": {
        "id": "pB1rOmmZN7pb"
      },
      "execution_count": null,
      "outputs": []
    },
    {
      "cell_type": "markdown",
      "source": [
        "---\n",
        "\n",
        "### 2. Diferencia Clave con `Dictionary Comprehensions`\n",
        "\n",
        "Una pregunta común es: si ambos usan llaves `{}`, ¿cómo sabe Python cuál crear? La respuesta está en la sintaxis de la expresión.\n",
        "\n",
        "- **La presencia de dos puntos (`:`) es lo que define a una `dictionary comprehension`**."
      ],
      "metadata": {
        "id": "tXO2Av1hN8zb"
      }
    },
    {
      "cell_type": "code",
      "source": [
        "# Set comprehension: No hay dos puntos\n",
        "mi_set = {x**2 for x in range(5)}\n",
        "print(mi_set) # {0, 1, 4, 9, 16}\n",
        "\n",
        "# Dictionary comprehension: Hay un par 'clave: valor'\n",
        "# x => clave y x**2 => Valor\n",
        "\n",
        "mi_dict = {x: x**2 for x in range(1, 6)}\n",
        "print(mi_dict)\n",
        "# {0: 0, 1: 1, 2: 4, 3: 9, 4: 16}"
      ],
      "metadata": {
        "id": "U7YAgFimOAEZ"
      },
      "execution_count": null,
      "outputs": []
    },
    {
      "cell_type": "markdown",
      "source": [
        "---\n",
        "\n",
        "### 3. La Trampa del Set Vacío: `{}` vs `set()`\n",
        "\n",
        "Esto nos lleva a una de las \"trampas\" más comunes para principiantes en Python. Debido a razones históricas (los diccionarios existieron primero), la sintaxis `{}` para un objeto vacío crea un **diccionario vacío**, no un set vacío.\n",
        "\n",
        "- **Incorrecto para un set vacío**: `mi_objeto = {}` (esto es un `dict`)\n",
        "- **Correcto para un set vacío**: `mi_set_vacio = set()`"
      ],
      "metadata": {
        "id": "VwrQ4QHaOEQ2"
      }
    },
    {
      "cell_type": "code",
      "source": [
        "# Un error común\n",
        "empty_set_wrong = {} # MAL\n",
        "print(type(empty_set_wrong)) # <class 'dict'>\n",
        "\n",
        "# La forma correcta de crear un SET\n",
        "empty_set_correct = set()\n",
        "print(type(empty_set_correct)) # <class 'set'>\n",
        "\n",
        "# La forma correcta de crear un Diccionario\n",
        "empty_dictionary_correct = dict()\n",
        "print(type(empty_dictionary_correct)) # <class 'dict'>"
      ],
      "metadata": {
        "id": "w-hZ1q7wOFTU"
      },
      "execution_count": null,
      "outputs": []
    },
    {
      "cell_type": "markdown",
      "source": [
        "Con estos tres puntos (el caso de uso principal, la diferencia con los diccionarios gracias a los dos puntos y la forma correcta de crear un set vacío), tu entendimiento de las `set comprehensions` es ahora completo y a nivel experto.\n",
        "\n",
        "### Dictionary Comprehensions `{clave: valor ...}`\n",
        "\n",
        "Permiten crear diccionarios de forma concisa. Se especifica tanto la clave como el valor en la expresión.\n",
        "\n",
        "**Sintaxis:** `{clave: valor for elemento in iterable}`"
      ],
      "metadata": {
        "id": "rXEns_boOH8h"
      }
    },
    {
      "cell_type": "code",
      "source": [
        "# Crear un diccionario a partir de una lista de números, con el número como clave y su cuadrado como valor\n",
        "numeros = [1, 2, 3, 4]\n",
        "cuadrados_dict = {num: num**2 for num in numeros}\n",
        "print(cuadrados_dict) # {1: 1, 2: 4, 3: 9, 4: 16}\n",
        "\n",
        "# Un uso muy común es combinarlo con zip para crear un diccionario\n",
        "lista_claves = ['nombre', 'edad', 'región']\n",
        "lista_valores = ['Juan', 30, 'Tunja']\n",
        "mi_dict = {clave: valor for clave, valor in zip(lista_claves, lista_valores)}\n",
        "print(mi_dict) # {'nombre': 'Juan', 'edad': 30, 'región': 'Tunja'}"
      ],
      "metadata": {
        "id": "GDbawD4hOJC-"
      },
      "execution_count": null,
      "outputs": []
    },
    {
      "cell_type": "markdown",
      "source": [
        "### Añadiendo Lógica Condicional\n",
        "\n",
        "Al igual que con las `list comprehensions`, puedes añadir `if` para filtrar los elementos que entrarán en el diccionario o usar un `if/else` para cambiar la clave o el valor.\n",
        "\n",
        "- **Filtrado de Pares (`if` al final)**: Incluir solo los pares que cumplan una condición."
      ],
      "metadata": {
        "id": "HP0uTZmGONeV"
      }
    },
    {
      "cell_type": "code",
      "source": [
        "# Crear un diccionario solo con los números pares y sus cuadrados\n",
        "numeros = [1, 2, 3, 4, 5, 6]\n",
        "\n",
        "# Caso 1 (if al final): Actúa como un filtro.\n",
        "# Decide SI un elemento se procesa o se descarta por completo.\n",
        "cuadrados_pares = {n: n**2 for n in numeros if n % 2 == 0}\n",
        "\n",
        "print(cuadrados_pares)\n",
        "# Salida: {2: 4, 4: 16, 6: 36}"
      ],
      "metadata": {
        "id": "Ua1n_woHOPds"
      },
      "execution_count": null,
      "outputs": []
    },
    {
      "cell_type": "markdown",
      "source": [
        "- **Expresión Condicional (`if/else` en el valor)**: Cambiar el valor basándose en una condición."
      ],
      "metadata": {
        "id": "m0hOqR70OWJc"
      }
    },
    {
      "cell_type": "code",
      "source": [
        "# Caso 2 (if/else en la expresión): Actúa como una transformación.\n",
        "# Procesa TODOS los elementos y decide QUÉ valor se le asigna a cada uno.\n",
        "\n",
        "# Crear un diccionario que categoriza los números\n",
        "numeros = [1, 2, 3, 4, 5]\n",
        "categorias = {n: 'par' if n % 2 == 0 else 'impar' for n in numeros}\n",
        "\n",
        "print(categorias)\n",
        "# Salida: {1: 'impar', 2: 'par', 3: 'impar', 4: 'par', 5: 'impar'}"
      ],
      "metadata": {
        "id": "hi-IchcQOY2o"
      },
      "execution_count": null,
      "outputs": []
    },
    {
      "cell_type": "markdown",
      "source": [
        "---\n",
        "\n",
        "### 2. Invertir un Diccionario\n",
        "\n",
        "Un uso muy práctico de las `dictionary comprehensions` es para invertir las claves y los valores de un diccionario existente.\n",
        "\n",
        "**Advertencia**: Esto solo funciona de manera segura si todos los **valores** del diccionario original son únicos, ya que se convertirán en las nuevas claves, y las claves no pueden estar duplicadas."
      ],
      "metadata": {
        "id": "j8ea87l9ObiX"
      }
    },
    {
      "cell_type": "code",
      "source": [
        "datos_personales = {'nombre': 'Juan', 'ciudad': 'Tunja', 'profesion': 'Ingeniero'}\n",
        "\n",
        "# Invertimos el diccionario: el valor se convierte en clave y la clave en valor\n",
        "datos_invertidos = {valor: clave for clave, valor in datos_personales.items()}\n",
        "\n",
        "print(datos_invertidos)\n",
        "# Salida: {'Juan': 'nombre', 'Tunja': 'ciudad', 'Ingeniero': 'profesion'}"
      ],
      "metadata": {
        "id": "H7rAWRgzOcDn"
      },
      "execution_count": null,
      "outputs": []
    },
    {
      "cell_type": "markdown",
      "source": [
        "---\n",
        "\n",
        "### 3. Crear un Diccionario desde un Único Iterable\n",
        "\n",
        "No siempre tienes dos listas para unir con `zip`. A veces, necesitas crear las claves y los valores a partir de un solo iterable.\n",
        "\n",
        "- **Ejemplo**: Tienes una lista de palabras y quieres crear un diccionario que mapee cada palabra a su longitud."
      ],
      "metadata": {
        "id": "r6VmNA9oOfHY"
      }
    },
    {
      "cell_type": "code",
      "source": [
        "palabras = ['hola', 'python', 'excelente']\n",
        "\n",
        "# La palabra es la clave, su longitud (len) es el valor\n",
        "longitudes = {palabra: len(palabra) for palabra in palabras}\n",
        "\n",
        "print(longitudes)\n",
        "# Salida: {'hola': 4, 'python': 6, 'excelente': 9}"
      ],
      "metadata": {
        "id": "mB9Yru9KOg9q"
      },
      "execution_count": null,
      "outputs": []
    },
    {
      "cell_type": "markdown",
      "source": [
        "Con estos patrones avanzados (lógica condicional, inversión de diccionarios y creación desde un solo iterable), tu manejo de las `dictionary comprehensions` es ahora mucho más versátil y completo.\n",
        "\n",
        "### La Estructura Completa de una Comprensión\n",
        "\n",
        "Podemos pensar en una comprensión como una frase con hasta cuatro partes, en un orden específico:\n",
        "\n",
        "**`[EXPRESIÓN` `|` `BUCLE(S)` `|` `FILTRO(S)]`**\n",
        "\n",
        "Donde:\n",
        "\n",
        "1. **`EXPRESIÓN`**: **(Obligatorio)** Qué se va a añadir a la nueva colección. Puede ser un valor simple (`elemento`) o una expresión compleja, **incluyendo el `if/else` para transformar**.\n",
        "2. **`BUCLE(S)`**: **(Obligatorio)** El `for elemento in iterable` que recorre la fuente de datos. Puede haber más de uno para anidar.\n",
        "3. **`FILTRO(S)`**: **(Opcional)** El `if condicion` al final que decide **si** el elemento se procesa o no. Puede haber más de uno.\n",
        "\n",
        "---\n",
        "\n",
        "### Plantillas por Tipo\n",
        "\n",
        "Aquí tienes las plantillas completas para cada tipo, incluyendo todas las partes opcionales.\n",
        "\n",
        "### **1. List Comprehension `[...]`**"
      ],
      "metadata": {
        "id": "BjLu-o_1OjCj"
      }
    },
    {
      "cell_type": "code",
      "source": [
        "# Plantilla Completa para Listas\n",
        "[expresion_final for elemento in iterable if condicion_de_filtro]"
      ],
      "metadata": {
        "id": "5liLM4zyOmsG"
      },
      "execution_count": null,
      "outputs": []
    },
    {
      "cell_type": "markdown",
      "source": [
        "- **`expresion_final`**: Puede ser tan simple como `elemento` o tan compleja como `f(elemento) if condicion else g(elemento)`.\n",
        "- **Ejemplo con todo:**"
      ],
      "metadata": {
        "id": "Mn0nR2jLOslG"
      }
    },
    {
      "cell_type": "code",
      "source": [
        "# De una lista de números, crear una lista con la palabra \"par\" para los números pares\n",
        "# mayores que 10, e ignorar el resto.\n",
        "numeros = [10, 11, 12, 13, 14, 15]\n",
        "resultado = [\n",
        "    \"par\"                               # 1. EXPRESIÓN\n",
        "    for n in numeros                   # 2. BUCLE\n",
        "    if n > 10 and n % 2 == 0           # 3. FILTRO\n",
        "]\n",
        "# resultado: ['par', 'par']"
      ],
      "metadata": {
        "id": "MT-2IxkaOvLk"
      },
      "execution_count": null,
      "outputs": []
    },
    {
      "cell_type": "markdown",
      "source": [
        "### **2. Set Comprehension `{...}`**\n",
        "\n",
        "La estructura es idéntica a la de lista, pero con llaves `{}`. El resultado final no tendrá duplicados."
      ],
      "metadata": {
        "id": "hZVR6CrWOww4"
      }
    },
    {
      "cell_type": "code",
      "source": [
        "# Plantilla Completa para Sets\n",
        "{expresion_final for elemento in iterable if condicion_de_filtro}"
      ],
      "metadata": {
        "id": "yecYcAmaOyn1"
      },
      "execution_count": null,
      "outputs": []
    },
    {
      "cell_type": "markdown",
      "source": [
        "- **Ejemplo con todo:**"
      ],
      "metadata": {
        "id": "TEGjLAlkO0RL"
      }
    },
    {
      "cell_type": "code",
      "source": [
        "# De una lista de palabras, crear un set con la longitud de las palabras\n",
        "# que no sean \"el\" o \"la\".\n",
        "palabras = [\"el\", \"perro\", \"la\", \"casa\", \"el\", \"gato\"]\n",
        "longitudes_unicas = {\n",
        "    len(p)                              # 1. EXPRESIÓN\n",
        "    for p in palabras                  # 2. BUCLE\n",
        "    if p not in [\"el\", \"la\"]           # 3. FILTRO\n",
        "}\n",
        "# longitudes_unicas: {5, 4} (set con la longitud de perro, casa, gato)"
      ],
      "metadata": {
        "id": "hhXAn_9XO4tB"
      },
      "execution_count": null,
      "outputs": []
    },
    {
      "cell_type": "markdown",
      "source": [
        "### **3. Dictionary Comprehension `{clave: valor ...}`**\n",
        "\n",
        "La única diferencia es que la **expresión** debe ser un par `clave: valor`.\n",
        "\n",
        "```python\n",
        "# Plantilla Completa para Diccionarios\n",
        "{expresion_clave: expresion_valor for elemento in iterable if condicion_de_filtro}\n",
        "```"
      ],
      "metadata": {
        "id": "e_M5NUVnO7jX"
      }
    },
    {
      "cell_type": "markdown",
      "source": [
        "- **`expresion_valor`**: También puede contener una lógica `if/else`.\n",
        "- **Ejemplo con todo:**"
      ],
      "metadata": {
        "id": "4U2-GYBhO-oO"
      }
    },
    {
      "cell_type": "code",
      "source": [
        "# De una lista de palabras, crear un diccionario con la palabra como clave\n",
        "# y su longitud como valor, pero solo para palabras de más de 3 letras.\n",
        "palabras = [\"sol\", \"casa\", \"python\", \"es\", \"genial\"]\n",
        "dict_filtrado = {\n",
        "    p: len(p)                           # 1. EXPRESIÓN (clave: valor)\n",
        "    for p in palabras                   # 2. BUCLE\n",
        "    if len(p) > 3                      # 3. FILTRO\n",
        "}\n",
        "# dict_filtrado: {'casa': 4, 'python': 6, 'genial': 6}"
      ],
      "metadata": {
        "id": "xMG2lHp-PO3V"
      },
      "execution_count": null,
      "outputs": []
    },
    {
      "cell_type": "markdown",
      "source": [
        "Estas plantillas resumen todas las reglas y posibilidades que hemos explorado.\n",
        "\n",
        "---\n",
        "\n",
        "### 5. Ejercicio Práctico: Isogramas\n",
        "\n",
        "**Problema:** Determinar si una cadena de texto dada es un **isograma**, es decir, no se repite ninguna letra (ignorando espacios, guiones y mayúsculas). Ejemplos: \"lumberjacks\", \"background\", \"six-year-old\".\n",
        "\n",
        "**Solución usando los conceptos aprendidos:**"
      ],
      "metadata": {
        "id": "RaH8HtZwPRXp"
      }
    },
    {
      "cell_type": "code",
      "source": [
        "def es_isograma(texto: str) -> bool:\n",
        "    \"\"\"\n",
        "    Verifica si una cadena es un isograma utilizando las propiedades de los sets.\n",
        "    \"\"\"\n",
        "    # 1. Limpiar la cadena: convertir a minúsculas y quitar caracteres no alfabéticos.\n",
        "    # Usaremos una list comprehension para filtrar.\n",
        "    caracteres_limpios = [char for char in texto.lower() if char.isalpha()]\n",
        "\n",
        "    # 2. Comparamos la longitud de la lista de caracteres con la longitud de un set creado a partir de ella.\n",
        "    # Si las longitudes son iguales, significa que no había duplicados.\n",
        "    longitud_lista = len(caracteres_limpios)\n",
        "    longitud_set = len(set(caracteres_limpios))\n",
        "\n",
        "    return longitud_lista == longitud_set\n",
        "\n",
        "# Pruebas\n",
        "print(f\"¿'lumberjacks' es un isograma? -> {es_isograma('lumberjacks')}\")     # True\n",
        "print(f\"¿'shopping' es un isograma? -> {es_isograma('shopping')}\")         # False (la 'p' se repite)\n",
        "print(f\"¿'six-year-old' es un isograma? -> {es_isograma('six-year-old')}\") # True"
      ],
      "metadata": {
        "id": "tvn6YapLPTgi"
      },
      "execution_count": null,
      "outputs": []
    },
    {
      "cell_type": "markdown",
      "source": [
        "## Introducción a las Pruebas Unitarias en Python: Automatizando la Calidad ⚙️\n",
        "\n",
        "Hemos visto cómo validar nuestra lógica en papel con las pruebas de escritorio. Ahora, daremos el siguiente paso y aprenderemos a hacer que la computadora valide nuestro código de forma automática. A esto se le llama **Pruebas Unitarias** (*Unit Testing*).\n",
        "\n",
        "### 1. ¿Qué son las Pruebas Unitarias?\n",
        "\n",
        "Una **prueba unitaria** es un fragmento de código que se escribe para verificar el comportamiento de una \"unidad\" de nuestro software. Una **unidad** es la parte más pequeña y aislada de un programa que tiene sentido probar, generalmente una **función** o un **método**.\n",
        "\n",
        "La idea es simple:\n",
        "\n",
        "1. Tomas una función de tu programa.\n",
        "2. Le das unos datos de entrada que tú controlas.\n",
        "3. Escribes una prueba que verifica si la función devuelve el resultado exacto que esperas.\n",
        "\n",
        "Piénsalo como un control de calidad en una fábrica. Antes de ensamblar un carro, se prueba cada componente por separado: el motor, los frenos, las luces. En el software, hacemos lo mismo: probamos cada función para asegurarnos de que funciona perfectamente de forma aislada.\n",
        "\n",
        "### 2. ¿Por Qué Son Tan Importantes?\n",
        "\n",
        "Invertir tiempo en escribir pruebas puede parecer trabajo extra al principio, pero los beneficios son enormes y definen a un desarrollador profesional.\n",
        "\n",
        "- **Aportan Confianza ✅:** Te dan la seguridad de que tu código funciona como esperas.\n",
        "- **Detectan \"Regresiones\" ❌:** A veces, al añadir una nueva funcionalidad o arreglar un bug, rompemos algo que antes funcionaba. Las pruebas unitarias detectan estos \"errores de regresión\" al instante.\n",
        "- **Facilitan el Refactoring:** Permiten mejorar y limpiar el código (refactorizar) con la confianza de que si algo sale mal, una prueba fallará y te avisará.\n",
        "- **Son una \"Documentación Viva\":** Las pruebas muestran ejemplos claros de cómo se debe usar una función y qué resultados se esperan.\n",
        "- **Aceleran el Desarrollo a Largo Plazo 🚀:** Un conjunto de pruebas sólido te permite desarrollar más rápido porque el miedo a \"romper algo\" disminuye drásticamente.\n",
        "\n",
        "---\n",
        "\n",
        "### 3. El Patrón \"Arrange, Act, Assert\" (AAA)\n",
        "\n",
        "Casi todas las pruebas unitarias siguen un patrón muy simple y fácil de recordar, conocido como **AAA**.\n",
        "\n",
        "1. **Arrange (Organizar):** Prepara todo lo necesario para la prueba. Esto incluye definir las variables de entrada y los resultados esperados.\n",
        "2. **Act (Actuar):** Ejecuta la unidad de código que quieres probar, es decir, llama a la función con los datos que preparaste.\n",
        "3. **Assert (Afirmar):** Compara el resultado obtenido con el resultado que esperabas. Esta es la verificación final. Si la afirmación es verdadera, la prueba pasa; si es falsa, la prueba falla.\n",
        "\n",
        "---\n",
        "\n",
        "### 4. Herramientas de Pruebas en Python\n",
        "\n",
        "Python tiene varias herramientas para escribir pruebas, pero dos son las más conocidas:\n",
        "\n",
        "- **`unittest`**: Es el módulo de pruebas que viene **incluido en la biblioteca estándar** de Python. Es potente pero su sintaxis puede ser un poco extensa (basada en clases), similar a otros lenguajes como Java.\n",
        "- **`pytest`**: Es la **biblioteca estándar de facto de la comunidad**. No viene incluida con Python (se instala con `pip install pytest`), pero es inmensamente popular porque es más fácil de usar, requiere menos código y es extremadamente potente. **Para los que empiezan, `pytest` es la opción recomendada.**\n",
        "\n",
        "[pytest](https://pypi.org/project/pytest/)\n",
        "\n",
        "[Explanation - pytest documentation](https://docs.pytest.org/en/stable/explanation/index.html)\n",
        "\n",
        "### Instalación y Configuración Básica PyTest\n",
        "\n",
        "Para instalar Pytest usando **UV**, que es un gestor de paquetes de Python rápido y moderno, debes seguir estos pasos:\n",
        "\n",
        "1. Abre tu terminal o línea de comandos.\n",
        "2. Asegúrate de tener un entorno virtual activo. Si no lo tienes, puedes crearlo con `uv venv` o si estás en un proyecto existente, actívalo.\n",
        "\n",
        "3. Ejecuta el siguiente comando para instalar Pytest. Es una buena práctica instalarlo como una dependencia de desarrollo, ya que no es necesario para la ejecución de la aplicación en producción.\n",
        "    \n",
        "    ```bash\n",
        "    uv pip install pytest\n",
        "    ```\n",
        "\n",
        "Este comando descargará e instalará Pytest junto con sus dependencias necesarias.\n",
        "\n",
        "---\n",
        "\n",
        "### Estructura de Proyectos y Mejores Prácticas\n",
        "\n",
        "Una vez instalado, la forma en que organices tu proyecto es crucial para mantener las pruebas manejables. Pytest tiene convenciones que facilitan la detección de pruebas automáticamente.\n",
        "\n",
        "1. **Directorio de Pruebas**: Crea un directorio llamado `tests` en la raíz de tu proyecto. Esta es la convención más común y recomendada. Dentro de este directorio, Pytest buscará tus archivos de prueba.\n",
        "2. **Nomenclatura de Archivos**: Los archivos de prueba deben tener un nombre que comience con `test_` o termine con `_test.py`. Por ejemplo, si tienes un módulo llamado `calculadora.py`, tu archivo de pruebas podría llamarse `test_calculadora.py`."
      ],
      "metadata": {
        "id": "nafBDy2KQaD7"
      }
    },
    {
      "cell_type": "markdown",
      "source": [
        "3. **Nomenclatura de Funciones**: Las funciones de prueba dentro de los archivos de prueba deben comenzar con `test_`. Pytest las ejecutará automáticamente."
      ],
      "metadata": {
        "id": "hHHLUEFFP4OF"
      }
    },
    {
      "cell_type": "code",
      "source": [
        "# Ejemplo\n",
        "\n",
        "# Supongamos que tienes un archivo `calculadora.py` con una función `sumar`:\n",
        "\n",
        "# calculadora.py\n",
        "def sumar(a, b):\n",
        "    return a + b\n",
        "\n",
        "# Tu archivo de prueba `tests/test_calculadora.py` se vería así:\n",
        "\n",
        "# tests/test_calculadora.py\n",
        "from calculadora import sumar\n",
        "\n",
        "def test_sumar_dos_numeros_enteros():\n",
        "    assert sumar(2, 3) == 5\n",
        "\n",
        "def test_sumar_con_cero():\n",
        "    assert sumar(5, 0) == 5"
      ],
      "metadata": {
        "id": "wiAd9lx7P9JS"
      },
      "execution_count": null,
      "outputs": []
    },
    {
      "cell_type": "markdown",
      "source": [
        "---\n",
        "\n",
        "### Cómo configurar Pytest en `pyproject.toml`\n",
        "\n",
        "Para configurar Pytest, debes agregar una sección `[tool.pytest.ini_options]` a tu archivo `pyproject.toml`. Dentro de esta sección, puedes definir varias opciones, como la ruta de las pruebas, los marcadores, y opciones de reporte.\n",
        "\n",
        "Aquí tienes un ejemplo básico que puedes usar como punto de partida:\n",
        "\n",
        "```toml\n",
        "[project]\n",
        "name = \"modulo-2\"\n",
        "version = \"0.1.0\"\n",
        "description = \"Ejemplos de Codigo del Módulo 2 del Curso de Python\"\n",
        "authors = [\n",
        "    { name = \"Diego Ojeda\", email = \"daom89@gmail.com\" }\n",
        "]\n",
        "readme = \"README.md\"\n",
        "license = { file = \"LICENSE\" }\n",
        "requires-python = \">=3.13\"\n",
        "dependencies = [\n",
        "    \"notebook>=7.4.5\",\n",
        "    \"pytest>=8.4.2\",\n",
        "    \"pytest-mock>=3.15.0\",\n",
        "    \"rich>=14.1.0\",\n",
        "]\n",
        "[project.urls]\n",
        "homepage = \"https://github.com/DaomPythonProjects/Modulo_2\"\n",
        "repository = \"https://github.com/DaomPythonProjects/Modulo_2\"\n",
        "documentation = \"https://github.com/DaomPythonProjects/Modulo_2/wiki\"\n",
        "\n",
        "[tool.pytest.ini_options]\n",
        "# Directorios de búsqueda de pruebas. Por defecto es el directorio actual.\n",
        "# Aquí se especifica que solo busque en el directorio 'tests'.\n",
        "testpaths = \"tests\"\n",
        "\n",
        "# Opciones de verbosidad (más detalles en la salida).\n",
        "addopts = \"-v\"\n",
        "\n",
        "# Ignora directorios específicos.\n",
        "# Por ejemplo, si usas entornos virtuales dentro del proyecto.\n",
        "norecursedirs = [\n",
        "    \".git\",\n",
        "    \"venv\",\n",
        "    \".venv\"\n",
        "]\n",
        "\n",
        "# Puedes definir tus propios marcadores para agrupar pruebas.\n",
        "# Útil para ejecutar solo un subconjunto de pruebas.\n",
        "# Por ejemplo, `pytest -m \"slow\"` para ejecutar solo las pruebas lentas.\n",
        "markers = [\n",
        "    \"slow: marca las pruebas que tardan mucho en ejecutarse\",\n",
        "    \"integration: marca las pruebas de integración\"\n",
        "]\n",
        "```"
      ],
      "metadata": {
        "id": "mnWOX5YyQP0h"
      }
    },
    {
      "cell_type": "markdown",
      "source": [
        "### Ventajas de usar `pyproject.toml` para la configuración:\n",
        "\n",
        "1. **Centralización**: Mantienes todas las configuraciones de herramientas como `pytest`, `black`, `isort`, `mypy`, etc., en un solo lugar. Esto simplifica la gestión del proyecto.\n",
        "2. **Transparencia**: El archivo `pyproject.toml` es un estándar moderno en el ecosistema de Python, lo que facilita a otros desarrolladores entender y contribuir a tu proyecto.\n",
        "3. **Consistencia**: Aseguras que las pruebas se ejecuten de la misma manera en todos los entornos, incluyendo CI/CD (Integración y Despliegue Continuo).\n",
        "\n",
        "Al usar `pyproject.toml`, no necesitas ningún otro archivo de configuración para Pytest, lo que simplifica la estructura de tu proyecto.\n",
        "\n",
        "### Ejecución de Pruebas\n",
        "\n",
        "Una vez que tengas tus archivos y funciones de prueba, puedes ejecutarlas desde la raíz de tu proyecto.\n",
        "\n",
        "1. Abre tu terminal.\n",
        "2. Asegúrate de que tu entorno virtual esté activo."
      ],
      "metadata": {
        "id": "smpwGQNTQggU"
      }
    },
    {
      "cell_type": "markdown",
      "source": [
        "3. Ejecuta el siguiente comando:\n",
        "    \n",
        "    ```toml\n",
        "    pytest\n",
        "    ```\n",
        "    \n",
        "\n",
        "Pytest buscará y ejecutará todas las pruebas que sigan las convenciones de nomenclatura.\n",
        "\n",
        "### Opciones de Pytest\n",
        "\n",
        "- **v (verbose):** Esta es una de las opciones más útiles. Aumenta la verbosidad de la salida, mostrando el nombre de cada prueba y su resultado (`PASSED`, `FAILED`, `SKIPPED`, etc.). Es ideal para ver qué pruebas se están ejecutando y si están pasando o fallando.\n",
        "- **s (no capture):** Por defecto, Pytest captura la salida estándar (`stdout`) y la salida de error (`stderr`) durante la ejecución de las pruebas. La opción `s` desactiva este comportamiento, permitiendo que veas las sentencias `print()` que incluyas en tus pruebas. Esto es muy útil para depurar.\n",
        "- **-tb=short (traceback):** Si una prueba falla, Pytest muestra un *traceback* completo. Con esta opción, puedes acortar el *traceback* para que solo muestre la información más relevante, facilitando la lectura de la salida.\n",
        "- **k (keyword expression):** Te permite ejecutar solo las pruebas que coincidan con un nombre o una expresión de palabra clave. Esto es muy útil cuando quieres ejecutar una sola prueba sin tener que ejecutar toda la suite. Por ejemplo, `pytest -k \"suma\"` solo ejecutaría las pruebas que contengan \"suma\" en su nombre.\n",
        "\n",
        "### Ejemplo de uso\n",
        "\n",
        "Para ver los resultados de cada prueba y, si tienes `print()` en tu código, su salida, puedes combinar las opciones:\n",
        "\n",
        "```toml\n",
        "pytest -v -s\n",
        "```\n",
        "\n",
        "Al usar este comando, verás una salida más detallada que te ayudará a entender el estado de tus pruebas de manera más clara. Por ejemplo, verás `PASSED` para cada una de las aserciones que pasen, lo que puede ser útil en un caso con múltiples `asserts` en una misma función de prueba.\n",
        "\n",
        "### Error: ModuleNotFoundError: No module named 'calculadora':\n",
        "\n",
        "El error `ModuleNotFoundError: No module named 'calculadora'` significa que el intérprete de Python no puede encontrar un módulo con ese nombre. Incluso si el archivo `__init__.py` está en el lugar correcto, Python necesita que el directorio raíz de tu proyecto se comporte como un paquete.\n",
        "\n",
        "### Solución: Instala tu proyecto como editable\n",
        "\n",
        "La mejor práctica para que tus pruebas reconozcan los módulos de tu proyecto es instalarlo en **modo editable**. Esto le dice a Python que trate tu directorio actual como un paquete instalable, lo que te permite importar tus módulos directamente sin necesidad de copiar archivos o modificar el `PYTHONPATH`.\n",
        "\n",
        "1. Asegúrate de que tu entorno virtual (`.venv`) esté activado.\n",
        "2. Desde la raíz de tu proyecto (el directorio `Modulo_2`), ejecuta el siguiente comando:\n",
        "    \n",
        "    ```toml\n",
        "    uv pip install -e .\n",
        "    ```\n",
        "    \n",
        "\n",
        "El comando `-e` significa \"editable\". El `.` indica que estás instalando el paquete del directorio actual. Al ejecutar esto, `uv` creará un enlace simbólico que le permite a Python encontrar e importar `calculadora.py` desde cualquier parte de tu proyecto, incluidas las pruebas.\n",
        "\n",
        "Después de esto, ejecuta `pytest` nuevamente desde la raíz de tu proyecto. El error debería resolverse.\n",
        "\n",
        "### ¿Por qué ocurre esto?\n",
        "\n",
        "Cuando ejecutas `pytest`, este busca módulos de prueba en tu directorio. Al encontrar el archivo `test_calculadora.py`, intenta importar `calculadora` como si fuera un paquete instalado. Si el proyecto no está instalado en modo editable, Python no sabe dónde buscar ese módulo, incluso si los archivos están en la misma carpeta. Instalarlo de esta manera resuelve el problema, ya que el **directorio de tu proyecto se convierte en un módulo instalable**.\n",
        "\n",
        "### Consejos Adicionales (Mejores Prácticas)\n",
        "\n",
        "- **Alcance de las Pruebas**: Las pruebas unitarias deben ser pequeñas, rápidas y probar una sola unidad de código (una función, un método, etc.). Aísla tus pruebas lo más posible.\n",
        "- **Aserciones Claras**: Usa sentencias `assert` para verificar que el comportamiento de tu código es el esperado. Pytest proporciona una salida detallada cuando una aserción falla.\n",
        "- **Fixture**: Para configuraciones comunes (como la conexión a una base de datos o la inicialización de un objeto), usa **fixtures** de Pytest. Te permiten configurar un estado inicial de forma reutilizable y segura para tus pruebas. Puedes definirlas con el decorador `@pytest.fixture`.\n",
        "- **Tox o Nox**: Para proyectos más grandes, considera usar herramientas como **Tox** o **Nox** para automatizar la ejecución de pruebas en múltiples entornos de Python, asegurando que tu código funcione en todas las versiones soportadas."
      ],
      "metadata": {
        "id": "sf8uQv5QQnEp"
      }
    },
    {
      "cell_type": "markdown",
      "source": [
        "# 🐛 Capturar Excepciones en Pytest\n",
        "\n",
        "Para capturar excepciones en `pytest`, la forma correcta y más limpia es usar **`pytest.raises`**.\n",
        "\n",
        "Este es un \"manejador de contexto\" (se usa con la palabra clave `with`) que le dice a `pytest` que un bloque de código **debe** lanzar una excepción específica para que la prueba pase.\n",
        "\n",
        "Piénsalo como decirle a `pytest`: \"Oye, voy a ejecutar el siguiente código. **Espero y exijo** que lance una excepción. Si lo hace, la prueba pasa ✅. Si no lanza ninguna excepción, o si lanza una diferente, la prueba falla ❌\".\n",
        "\n",
        "---\n",
        "\n",
        "## Ejemplo: Probando la división por cero\n",
        "\n",
        "Recordemos nuestra función `dividir` del módulo `calculadora`, que intencionalmente lanza un error si intentas dividir por cero.\n",
        "\n",
        "**El código a probar:**\n"
      ],
      "metadata": {
        "id": "a5paWVB2njRO"
      }
    },
    {
      "cell_type": "code",
      "source": [
        "# calculadora.py\n",
        "def dividir(a, b):\n",
        "    \"\"\"Divide a entre b. Lanza un error si b es cero.\"\"\"\n",
        "    if b == 0:\n",
        "        raise ValueError(\"No se puede dividir por cero\")\n",
        "    return a / b"
      ],
      "metadata": {
        "id": "LFf3QTsGnp2S"
      },
      "execution_count": null,
      "outputs": []
    },
    {
      "cell_type": "markdown",
      "source": [
        "**La prueba en `pytest`:**"
      ],
      "metadata": {
        "id": "tB8X_i3mnx-A"
      }
    },
    {
      "cell_type": "code",
      "source": [
        "# test_calculadora.py\n",
        "import pytest\n",
        "from calculadora import dividir\n",
        "\n",
        "def test_dividir_por_cero_lanza_error():\n",
        "    # Arrange: Le decimos a pytest que esperamos un ValueError en este bloque.\n",
        "    with pytest.raises(ValueError):\n",
        "        # Act: Ejecutamos la acción que DEBE causar el error.\n",
        "        dividir(10, 0)\n",
        "\n",
        "    # Assert: No se necesita un 'assert' explícito al final.\n",
        "    # El propio bloque 'with' actúa como la afirmación."
      ],
      "metadata": {
        "id": "Zu4A5nLon4gZ"
      },
      "execution_count": null,
      "outputs": []
    },
    {
      "cell_type": "markdown",
      "source": [
        "**¿Cómo funciona?**\n",
        "\n",
        "1. **`with pytest.raises(ValueError):`**: Aquí abrimos el \"contexto de seguridad\". Le decimos a `pytest` que el código dentro de este bloque indentado tiene la obligación de lanzar un `ValueError`.\n",
        "2. **`dividir(10, 0)`**: Esta es la acción que provoca el error esperado.\n",
        "3. **Fin del bloque**: Si `dividir(10, 0)` lanza un `ValueError` como se esperaba, `pytest.raises` lo \"atrapa\", la prueba se considera un éxito y el código continúa. Si lanzara un error diferente (ej. `TypeError`) o no lanzara ningún error, la prueba fallaría inmediatamente.\n",
        "\n",
        "---\n",
        "\n",
        "## 🕵️ Nivel Pro: Verificando el mensaje del error\n",
        "\n",
        "A veces, no solo quieres saber *que* ocurrió un error, sino también asegurarte de que el **mensaje del error** sea el correcto. Para esto, puedes capturar la información de la excepción en una variable."
      ],
      "metadata": {
        "id": "LCzij50Sn_LL"
      }
    },
    {
      "cell_type": "code",
      "source": [
        "def test_dividir_por_cero_con_mensaje_correcto():\n",
        "    # Arrange: Capturamos la información de la excepción en la variable 'excinfo'.\n",
        "    with pytest.raises(ValueError) as excinfo:\n",
        "        # Act:\n",
        "        dividir(10, 0)\n",
        "\n",
        "    # Assert: Verificamos que el mensaje del error contenga el texto esperado.\n",
        "    assert \"No se puede dividir por cero\" in str(excinfo.value)"
      ],
      "metadata": {
        "id": "POJneckPoJoc"
      },
      "execution_count": null,
      "outputs": []
    },
    {
      "cell_type": "markdown",
      "source": [
        "Aquí, `as excinfo` guarda los detalles de la excepción capturada. Después de que el bloque `with` termina, podemos usar `assert` para inspeccionar `excinfo.value` (que es la propia excepción) y verificar que el texto que contiene es el que esperábamos. Esto hace tu prueba mucho más robusta."
      ],
      "metadata": {
        "id": "IRiXQjD-oON3"
      }
    },
    {
      "cell_type": "markdown",
      "source": [
        "## 🧰 Fixtures: El \"Mise en Place\" de tus Pruebas\n",
        "\n",
        "Las **fixtures** son la característica más poderosa de `pytest`. Son funciones que preparan datos, objetos o conexiones que tus pruebas necesitan. Piensa en ellas como la preparación (\"mise en place\") que hace un chef antes de cocinar: preparan todos los ingredientes para que el acto principal (la prueba) sea limpio y enfocado.\n",
        "\n",
        "**¿Por qué usarlas?**\n",
        "\n",
        "- **Reutilización:** Evitan repetir el mismo código de preparación (el \"Arrange\") en múltiples pruebas.\n",
        "- **Aislamiento:** Garantizan que cada prueba reciba un \"ingrediente\" fresco, evitando que una prueba afecte a otra.\n",
        "- **Manejo de Limpieza:** Pueden encargarse de limpiar recursos (como cerrar una conexión a base de datos) después de que la prueba termine.\n",
        "\n",
        "**Ejemplo Práctico:**\n",
        "Imagina que tienes una clase `CuentaBancaria` y muchas pruebas necesitan una cuenta con un saldo inicial."
      ],
      "metadata": {
        "id": "ieoI2IyP93Al"
      }
    },
    {
      "cell_type": "code",
      "source": [
        "# cuenta.py\n",
        "class CuentaBancaria:\n",
        "    def __init__(self, saldo_inicial=0):\n",
        "        self.saldo = saldo_inicial\n",
        "\n",
        "    def retirar(self, monto):\n",
        "        if monto > self.saldo:\n",
        "            raise ValueError(\"Fondos insuficientes\")\n",
        "        self.saldo -= monto\n",
        "\n",
        "# test_cuenta.py\n",
        "import pytest\n",
        "from cuenta import CuentaBancaria\n",
        "\n",
        "# 1. Se define la fixture con el decorador\n",
        "@pytest.fixture\n",
        "def cuenta_con_saldo():\n",
        "    \"\"\"Fixture que crea una cuenta con 100 de saldo.\"\"\"\n",
        "    return CuentaBancaria(100)\n",
        "\n",
        "# 2. La prueba \"pide\" la fixture por su nombre como un argumento\n",
        "def test_retiro_exitoso(cuenta_con_saldo):\n",
        "    # La fixture ya preparó la cuenta, no necesitamos hacerlo aquí.\n",
        "    cuenta_con_saldo.retirar(30)\n",
        "    assert cuenta_con_saldo.saldo == 70\n",
        "\n",
        "def test_retiro_fallido_por_fondos(cuenta_con_saldo):\n",
        "    with pytest.raises(ValueError):\n",
        "        cuenta_con_saldo.retirar(200)"
      ],
      "metadata": {
        "id": "KMhZNqUZ99Kd"
      },
      "execution_count": null,
      "outputs": []
    },
    {
      "cell_type": "markdown",
      "source": [
        "---\n",
        "\n",
        "## 🏷️ Marcadores (Markers): Organiza y Controla tus Pruebas\n",
        "\n",
        "Los marcadores son etiquetas que pones a tus pruebas para agruparlas o darles un comportamiento especial. Se usan con el decorador `@pytest.mark`.\n",
        "\n",
        "**¿Por qué usarlos?**\n",
        "\n",
        "- **Omitir pruebas:** Puedes marcar pruebas para que se omitan (`skip`) o se omitan si se cumple una condición (`skipif`).\n",
        "- **Agrupar pruebas:** Puedes crear tus propias etiquetas (ej. `@pytest.mark.slow`, `@pytest.mark.api`) y luego decirle a `pytest` que ejecute solo las pruebas con una etiqueta específica.\n",
        "\n",
        "**Ejemplo Práctico:**"
      ],
      "metadata": {
        "id": "Z4feVKqg-beT"
      }
    },
    {
      "cell_type": "code",
      "source": [
        "import sys\n",
        "import pytest\n",
        "\n",
        "@pytest.mark.skip(reason=\"Esta prueba aún no está implementada.\")\n",
        "def test_funcionalidad_futura():\n",
        "    pass\n",
        "\n",
        "@pytest.mark.skipif(sys.version_info < (3, 10), reason=\"Requiere Python 3.10 o superior.\")\n",
        "def test_requiere_python_moderno():\n",
        "    pass\n",
        "\n",
        "@pytest.mark.slow\n",
        "def test_proceso_lento_que_dura_minutos():\n",
        "    # ... código que tarda mucho ...\n",
        "    pass"
      ],
      "metadata": {
        "id": "gEsn8mu4-fgu"
      },
      "execution_count": null,
      "outputs": []
    },
    {
      "cell_type": "markdown",
      "source": [
        "Para ejecutar solo las pruebas lentas, usarías este comando en la terminal:\n",
        "`pytest -m \"slow\"`\n",
        "\n",
        "---\n",
        "\n",
        "## 🙈 Monkeypatch: El Doble de Riesgo\n",
        "\n",
        "El `monkeypatch` es una fixture especial que te permite modificar o reemplazar objetos, funciones o variables de forma segura durante una prueba. Es como contratar a un \"doble de riesgo\" para que reemplace a un actor en una escena peligrosa.\n",
        "\n",
        "**¿Por qué usarlo?**\n",
        "\n",
        "- Para simular situaciones difíciles de recrear, como una función que devuelve un valor específico o un error.\n",
        "- Para modificar configuraciones globales o variables de entorno solo durante la prueba.\n",
        "\n",
        "**Ejemplo Práctico:**\n",
        "Una función que depende de una variable de entorno."
      ],
      "metadata": {
        "id": "-mHz_smx-m0S"
      }
    },
    {
      "cell_type": "code",
      "source": [
        "# mi_app.py\n",
        "import os\n",
        "\n",
        "def obtener_nombre_usuario():\n",
        "    # Esta función depende de una variable de entorno\n",
        "    return os.environ.get(\"USUARIO_ACTUAL\")\n",
        "\n",
        "# test_mi_app.py\n",
        "from mi_app import obtener_nombre_usuario\n",
        "\n",
        "def test_obtener_nombre_usuario(monkeypatch):\n",
        "    # Usamos monkeypatch para \"simular\" que la variable de entorno existe\n",
        "    monkeypatch.setenv(\"USUARIO_ACTUAL\", \"Camilo\")\n",
        "\n",
        "    assert obtener_nombre_usuario() == \"Camilo\""
      ],
      "metadata": {
        "id": "poL2yeqP-raN"
      },
      "execution_count": null,
      "outputs": []
    },
    {
      "cell_type": "markdown",
      "source": [
        "---\n",
        "\n",
        "## 📁 `tmp_path`: Pruebas con Archivos Temporales\n",
        "\n",
        "Ya vimos que \"mockear\" la escritura de archivos es ideal para pruebas unitarias. Pero a veces, en pruebas de integración, necesitas *realmente* escribir y leer un archivo. La fixture `tmp_path` te da una carpeta temporal única para cada prueba y la limpia automáticamente.\n",
        "\n",
        "**Ejemplo Práctico:**"
      ],
      "metadata": {
        "id": "aGOtzBB5-v67"
      }
    },
    {
      "cell_type": "code",
      "source": [
        "def test_escribir_y_leer_archivo(tmp_path):\n",
        "    # tmp_path es un objeto Path a una carpeta temporal\n",
        "    archivo = tmp_path / \"mi_config.txt\"\n",
        "\n",
        "    # Escribimos en el archivo temporal\n",
        "    archivo.write_text(\"HOLA MUNDO\")\n",
        "\n",
        "    # Verificamos que se escribió correctamente\n",
        "    assert archivo.read_text() == \"HOLA MUNDO\"\n",
        "    assert archivo.exists()\n",
        "# Cuando la prueba termina, la carpeta y el archivo se borran solos."
      ],
      "metadata": {
        "id": "OHdmhLHS-zN-"
      },
      "execution_count": null,
      "outputs": []
    },
    {
      "cell_type": "markdown",
      "source": [
        "### 5. Ejemplo Práctico con `pytest`\n",
        "\n",
        "Vamos a crear y probar un par de funciones de una calculadora simple.\n",
        "\n",
        "**Paso 1: El Código a Probar**\n",
        "\n",
        "Crea un archivo llamado `calculadora.py`."
      ],
      "metadata": {
        "id": "pffCQK3zPyPJ"
      }
    },
    {
      "cell_type": "code",
      "source": [
        "# calculadora.py\n",
        "\n",
        "def sumar(a, b):\n",
        "    \"\"\"Suma dos números.\"\"\"\n",
        "    return a + b\n",
        "\n",
        "def dividir(a, b):\n",
        "    \"\"\"Divide a entre b. Lanza un error si b es cero.\"\"\"\n",
        "    if b == 0:\n",
        "        raise ValueError(\"No se puede dividir por cero\")\n",
        "    return a / b"
      ],
      "metadata": {
        "id": "cZFEg8mfQb9s"
      },
      "execution_count": null,
      "outputs": []
    },
    {
      "cell_type": "markdown",
      "source": [
        "**Paso 2: Escribir las Pruebas**\n",
        "\n",
        "Ahora, crea otro archivo en la **misma carpeta** llamado `test_calculadora.py`. `pytest` descubre automáticamente los archivos de prueba que siguen el patrón `test_*.py` o `*_test.py`."
      ],
      "metadata": {
        "id": "YcFI4tKpQdm8"
      }
    },
    {
      "cell_type": "code",
      "source": [
        "# test_calculadora.py\n",
        "import pytest\n",
        "\n",
        "from calculadora import sumar, dividir, sumar_y_guardar\n",
        "\n",
        "# Una prueba simple para la función sumar\n",
        "def test_sumar_numeros_positivos():\n",
        "    # Arrange (Organizar)\n",
        "    num1 = 5\n",
        "    num2 = 10\n",
        "    resultado_esperado = 15\n",
        "\n",
        "    # Act (Actuar)\n",
        "    resultado_actual = sumar(num1, num2)\n",
        "\n",
        "    # Assert (Afirmar)\n",
        "    assert resultado_actual == resultado_esperado\n",
        "\n",
        "# Prueba para la división exitosa\n",
        "def test_dividir_exitosamente():\n",
        "    assert dividir(10, 2) == 5\n",
        "\n",
        "# ¿Cómo probamos un error? ¡pytest nos ayuda!\n",
        "def test_dividir_por_cero_lanza_error():\n",
        "    # Arrange: Usamos un \"context manager\" de pytest para decirle\n",
        "    # que esperamos que ocurra un error de tipo ValueError.\n",
        "    with pytest.raises(ValueError):\n",
        "        # Act: Ejecutamos la acción que debe causar el error.\n",
        "        # Assert: Si el error esperado ocurre, la prueba pasa.\n",
        "        # Si no ocurre, o si ocurre un error diferente, la prueba falla.\n",
        "        dividir(10, 0)\n",
        "\n",
        "def test_tipos_de_datos():\n",
        "    assert sumar(2, 3) == 5 # Intero\n",
        "    assert sumar(2.5, 3.5) == 6.0 # Float\n",
        "    assert sumar(2, \"@\") == \"ERROR: Los datos deben ser numeros\"\n",
        "    assert sumar(\"👌\", 2) == \"ERROR: Los datos deben ser numeros\"\n",
        "    assert sumar(\"2\", \"3\") == \"ERROR: Los datos deben ser numeros\"\n",
        "\n",
        "def test_sin_parametros():\n",
        "    assert sumar() == \"ERROR: No se envio NINGUN NUMERO\"\n",
        "\n",
        "def test_sin_negativos():\n",
        "    assert sumar(-2, -3) == \"ERROR: Los datos deben ser numeros POSITIVOS\"\n",
        "\n",
        "def test_sumar_con_cero():\n",
        "    assert sumar(5, 0) == \"ERROR: Ninguno de los numeros no deben ser CERO\"\n",
        "\n",
        "# El decorador define los \"nombres de las columnas\": a, b, y el resultado esperado\n",
        "@pytest.mark.parametrize(\"a, b, esperado\", [\n",
        "    # Cada tupla es una \"fila\" de casos de prueba\n",
        "    (5, 10, 15),      # Caso de números positivos\n",
        "    (-5, 5, \"ERROR: Los datos deben ser numeros POSITIVOS\"),       # Caso con un negativo\n",
        "    (2.5, 2.5, 5.0),  # Caso con flotantes\n",
        "    (5,0,\"ERROR: Ninguno de los numeros no deben ser CERO\"),           # Caso con 0\n",
        "    (0,12,\"ERROR: Ninguno de los numeros no deben ser CERO\"),           # Caso con 0\n",
        "    (0,0,\"ERROR: No se envio NINGUN NUMERO\"),           # Caso con 0\n",
        "])\n",
        "def test_sumar_varios_casos(a, b, esperado):\n",
        "    # La función de prueba ahora usa esos parámetros\n",
        "    resultado_actual = sumar(a, b)\n",
        "    assert resultado_actual == esperado\n",
        "\n",
        "# 1. Pedimos la fixture \"mocker\" como argumento.\n",
        "def test_sumar_y_guardar_usa_mock(mocker):\n",
        "    # 2. Arrange: Le decimos a mocker que reemplace la función `open`\n",
        "    #    que se encuentra DENTRO de nuestro módulo `calculadora`.\n",
        "    #    La reemplazamos por un simulador especial de archivos.\n",
        "    mock_archivo = mocker.patch(\"calculadora.open\", mocker.mock_open())\n",
        "\n",
        "    # 3. Act: Ejecutamos nuestra función como siempre.\n",
        "    resultado = sumar_y_guardar(10, 5)\n",
        "\n",
        "    # 4. Assert: Por ahora, la prueba pasa si no hay errores\n",
        "    #    y, ¡lo más importante!, no se ha creado ningún archivo \"historial.txt\".\n",
        "    assert resultado == 15\n",
        "\n",
        "    # LÍNEA 2: Aquí estamos interrogando al espía\n",
        "    mock_archivo.assert_called_once_with(\"historial.txt\", \"a\")\n",
        "\n",
        "    # Verificamos que el método `write` fue llamado con el texto correcto\n",
        "    mock_archivo().write.assert_called_once_with(\"10 + 5 = 15\\n\")"
      ],
      "metadata": {
        "id": "lGU3ziIvQe5i"
      },
      "execution_count": null,
      "outputs": []
    },
    {
      "cell_type": "markdown",
      "source": [
        "**Paso 3: Ejecutar las Pruebas**\n",
        "\n",
        "1. Asegúrate de tener `pytest` instalado. Si no, abre tu terminal y ejecuta: `pip install pytest`.\n",
        "2. Navega en la terminal hasta la carpeta donde guardaste los dos archivos.\n",
        "3. Simplemente ejecuta el comando:\n",
        "    \n",
        "    ```python\n",
        "    pytest\n",
        "    ```\n",
        "\n",
        "`pytest` buscará y ejecutará todas las funciones de prueba. Verás una salida como esta:\n",
        "\n",
        "```python\n",
        "============================= test session starts ==============================\n",
        "...\n",
        "collected 4 items\n",
        "\n",
        "test_calculadora.py ....                                                 [100%]\n",
        "\n",
        "============================== 4 passed in 0.01s ===============================\n",
        "```\n",
        "\n",
        "Los puntos (`....`) significan que cada una de las 4 pruebas pasó exitosamente. ¡Has automatizado la verificación de tu código!\n",
        "\n",
        "### 6. Conclusión: De la Mesa a la Máquina\n",
        "\n",
        "Las pruebas de escritorio y las pruebas unitarias son habilidades complementarias:\n",
        "\n",
        "- La **prueba de escritorio** te ayuda a **diseñar y validar tu lógica** antes de escribir una sola línea de código. Los casos de prueba que imaginas (valores normales, casos límite, valores erróneos) son la materia prima.\n",
        "- La **prueba unitaria** toma esos mismos casos de prueba y los convierte en un **código automatizado que vigila tu implementación** para siempre.\n",
        "\n",
        "Adoptar las pruebas unitarias es uno de los saltos más importantes que puedes dar como desarrollador. Es pasar de \"creo que funciona\" a \"sé que funciona\"."
      ],
      "metadata": {
        "id": "03MLN94rQiUl"
      }
    }
  ]
}